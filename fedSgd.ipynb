{
 "cells": [
  {
   "cell_type": "markdown",
   "metadata": {},
   "source": [
    "# Federated Learning from scratch with Pytorch\n",
    "**A Pytorch implementation of the Federated Learning Algorithm FedAvg on MNIST dataset**"
   ]
  },
  {
   "cell_type": "markdown",
   "metadata": {},
   "source": [
    "## Introduction\n",
    "Federated Learning is a machine learning setting where many clients (e.g. mobile devices or whole organizations) collaboratively train a model under the orchestration of a central server (e.g. service provider), while keeping the training data decentralized. Federated Learning represents a possible solution to the problem of data privacy and data security in machine learning.\n",
    "\n",
    "In this project I implemented the Federated Learning algorithm **FedAvg** formulated by McMahan, et al. [1] which is a first approach to this challange.\n",
    "\n",
    "<img src=\"images/algo.png\" alt=\"Image Description\" width=\"400\" height=\"400\">\n",
    "\n",
    "Basically the algorithm is divided into two phases: the **Client Update** and the **Server Update**. In the **Client Update** phase, each client trains its local model on its local sample of data for the number of local epochs, using the local batch size. In the **Server Update** phase, the server averages the models weights of all the clients to create a new global model. This global model is then sent to all the clients to start a new round of training. In this way, the server never has access to the raw data but only to the model weights, and the global model is a good approximation of the model that would have been obtained by training on the entire dataset."
   ]
  },
  {
   "cell_type": "markdown",
   "metadata": {},
   "source": [
    "## Implementation\n",
    "\n",
    "I implemented the algorithm using Pytorch and I tested it on the MNIST dataset for semplicity. \n",
    "\n",
    "The project is divided into the following files:\n",
    "- `fedsgd.py`: the main file that contains the implementation of the FedAvg algorithm\n",
    "- `Client.py`: the file that contains the implementation of the `Client` class\n",
    "- `Server.py`: the file that contains the implementation of the `Server` class\n",
    "- `models.py`: the file that contains the implementation of the neural models\n",
    "\n",
    "### Client\n",
    "The `Client.py` file contains the implementation of the client class. Each client has its own dataloader, model and optimizer, the learning rate and the number of local epochs can be set by the user. The method `train` implements the **Client Update** phase.\n",
    "\n",
    "```python\n",
    "def train(self, num_epochs, patience, params, progress_bar):\n",
    "    self.model.load_state_dict(params)\n",
    "    self.model.train()\n",
    "    for epoch in range(num_epochs):\n",
    "        running_loss = 0.0\n",
    "        for batch_idx, (x, y) in enumerate(self.data):\n",
    "            x, y = x.to(self.device), y.to(self.device)\n",
    "            self.optimizer.zero_grad()\n",
    "            y_pred = self.model(x)\n",
    "            loss = self.loss_func(y_pred, y)\n",
    "            loss.backward()\n",
    "            self.optimizer.step()\n",
    "            running_loss += loss.item()\n",
    "        progress_bar.update(1)\n",
    "    progress_bar.set_postfix({\"loss\": running_loss / len(self.data)})\n",
    "    return running_loss / len(self.data)\n",
    "```\n",
    "\n",
    "### Server\n",
    "The `Server.py` file contains the implementation of the server class. The server has a model and a list of clients, it also has the method `aggregate` that implements the **Server Update** phase. Notice that the function does not return the new global model but it updates the model inplace.\n",
    "\n",
    "```python\n",
    "def aggregate(self):\n",
    "    params = [client.get_params() for client in self.clients]\n",
    "    avg_params = {}\n",
    "    for key in params[0].keys():\n",
    "        avg_params[key] = torch.stack(\n",
    "            [params[i][key] for i in range(len(params))], 0\n",
    "        ).mean(0)\n",
    "    self.model.load_state_dict(avg_params)\n",
    "```\n",
    "\n",
    "### Algorithm Loop\n",
    "Finally the `fedsgd.py` file contains the main function that runs the experiment with the right configuration. The function `fedSgdSeq` runs the sequential version of the algorithm, while the function `fedSgdPar` runs the parallel version of the algorithm. The algorithm run for `T` rounds, first the server get the current global model state and then sends it to all the clients. Next the clients train their local model, which they updated to the new one, moving into their local optimizer direction for local epochs step and then they send the model back to the server. The server aggregates the models and sends the new global model to all the clients. At the end of the training the server evaluates the model on the test set.\n",
    "\n",
    "```python\n",
    "def fedSgdSeq(\n",
    "    model=Cnn(),\n",
    "    T=5,                # number of rounds\n",
    "    K=10,               # number of clients\n",
    "    C=1,                # fraction of clients\n",
    "    E=10,               # number of local epochs\n",
    "    B=128,              # local batch size\n",
    "    num_samples=1000,   # number of training samples on each client\n",
    "    lr=0.01,            # learning rate\n",
    "    weight_decay=10e-6, # weight decay\n",
    "    patience=5,         # patience for early stopping\n",
    "):\n",
    "    # ... code ...\n",
    "    clients = []\n",
    "    for i in range(num_clients):\n",
    "        client = Client(\n",
    "            i,\n",
    "            trainloader[i],\n",
    "            Cnn() if model.get_type() == \"Cnn\" else Net(),\n",
    "            lr=lr,\n",
    "            weight_decay=weight_decay,\n",
    "            device=device,\n",
    "        )\n",
    "        clients.append(client)\n",
    "    # ... code ...\n",
    "    # FedAvg algorithm sequential version\n",
    "    for r in range(T):\n",
    "        params = server.get_params()\n",
    "        progress_bar = tqdm.tqdm(\n",
    "            total=E * num_clients, position=0, leave=False, desc=\"Round %d\" % r\n",
    "        )\n",
    "        for client in clients:\n",
    "            loss = client.train(E, patience, params, progress_bar)\n",
    "        server.aggregate()\n",
    "        val_loss, val_acc = server.test(valoader)\n",
    "        print(\"Server - Val loss: %.3f, Val accuracy: %.3f\" % (val_loss, val_acc))\n",
    "```\n",
    "\n",
    "The dataset is splitted into training, validation and test set. The training set is divided into `K` clients, each client has a dataloader that samples `num_samples` samples from the training set. The validation set is used to evaluate the model at the end of each round, while the test set is used to evaluate the model at the end of the training. \n",
    "\n",
    "The parallel version uses the `joblilb` module to create a thread for each client, in this way we simulate better the real scenario where the clients are distributed on different devices.\n",
    "\n",
    "```python\n",
    "for r in range(T):\n",
    "    params = server.get_params()\n",
    "    progress_bar = tqdm.tqdm(\n",
    "        total=E * num_clients, position=0, leave=False, desc=\"Round %d\" % r\n",
    "    )\n",
    "    joblib.Parallel(n_jobs=num_clients, backend=\"threading\")(\n",
    "        joblib.delayed(client.train)(E, patience, params, progress_bar)\n",
    "        for client in clients\n",
    "    )\n",
    "    server.aggregate()\n",
    "    val_loss, val_acc = server.test(valoader)\n",
    "    print(\"Server - Val loss: %.3f, Val accuracy: %.3f\" % (val_loss, val_acc))\n",
    "```\n",
    "\n",
    "This implemenation allows to test different configurations of the algorithm. In particular if we set `C = 1`, `E = 1` and `B = inf` we obtain the **FedSGD** algorithm, which is the baseline algorithm for the Federated Learning presented in the paper [1]."
   ]
  },
  {
   "cell_type": "markdown",
   "metadata": {},
   "source": [
    "## Experiments"
   ]
  },
  {
   "cell_type": "code",
   "execution_count": 1,
   "metadata": {},
   "outputs": [
    {
     "name": "stdout",
     "output_type": "stream",
     "text": [
      "Running the Parallel implementation FedSGD on MNIST dataset\n",
      "- Parameters: T=20, K=100, C=0.1, E=5, B=10, num_samples=480, lr=0.1, weight_decay=0, patience=5\n",
      "- Model: Cnn\n",
      "- Data Split:  48000 12000 10000\n"
     ]
    },
    {
     "name": "stderr",
     "output_type": "stream",
     "text": [
      "Round 0: 100%|██████████| 50/50 [00:14<00:00,  4.56it/s, loss=0.12]  "
     ]
    },
    {
     "name": "stdout",
     "output_type": "stream",
     "text": [
      "Server - Val loss: 0.377, Val accuracy: 0.926\n"
     ]
    },
    {
     "name": "stderr",
     "output_type": "stream",
     "text": [
      "Round 1: 100%|██████████| 50/50 [4:53:13<00:00,  7.71s/it, loss=0.00405]     "
     ]
    },
    {
     "name": "stdout",
     "output_type": "stream",
     "text": [
      "Server - Val loss: 0.135, Val accuracy: 0.961\n"
     ]
    },
    {
     "name": "stderr",
     "output_type": "stream",
     "text": [
      "Round 2: 100%|██████████| 50/50 [00:12<00:00,  4.83it/s, loss=0.00427]  "
     ]
    }
   ],
   "source": [
    "from src.fedsgd import fedSgdPar, fedSgdSeq\n",
    "from src.models import Net, Cnn\n",
    "\n",
    "result = fedSgdPar(model=Cnn(), T=20, K=100, C=0.1, E=5, B=10, num_samples=480, lr=0.1, patience=5)"
   ]
  },
  {
   "cell_type": "markdown",
   "metadata": {},
   "source": [
    "## Results"
   ]
  },
  {
   "cell_type": "markdown",
   "metadata": {},
   "source": [
    "## Considerations"
   ]
  },
  {
   "cell_type": "markdown",
   "metadata": {},
   "source": [
    "## References\n",
    "[1] [H. B. McMahan, E. Moore, D. Ramage, S. Hampson, and B. A. y Arcas, Communication-Efficient Learning of Deep Networks from Decentralized Data. 2023.](https://arxiv.org/abs/1602.05629)"
   ]
  },
  {
   "cell_type": "markdown",
   "metadata": {},
   "source": [
    "## TODO \n",
    "- [x] Add implementation code description: \n",
    "\t- [x] `Client` class\n",
    "\t- [x] `Server` class\n",
    "\t- [x] `models` class\n",
    "\t- [x] `fedSgdPar` and `fedSgd` algorithm (show the algorithm code)\n",
    "- [x] Check parallel client implementation (can be improved?)\n",
    "- [ ] Add LSTM model\n",
    "- [ ] Run experiment (from the paper)\n",
    "- [ ] Show results\n",
    "- [x] Code refactoring: move the class in separate files and the main code in a separate file\n",
    "\n",
    "## ROUTMAP ESPERIMENTI\n",
    "1. Replica risultati paper\n",
    "   1. Confronta i diversi modelli \n",
    "   2. Prova alcune configurazioni\n",
    "2. Ablation study su E\n",
    "3. Esperimenti su dati non iid\n",
    "\n",
    "\n",
    "Domande: \n",
    "- Notebook \n",
    "- Esperimenti \n",
    "- Aggiunte (early stopping, altri modelli, altri dataset, etc.)\n",
    "\n",
    "RISPOSTE: \n",
    "- Early stopping inutile\n",
    "- Compara risultati con paper cerca di replicare i risultati\n",
    "- La cosa interessante e' vedere come cambia aumentando E il numero di iterazioni locali\n",
    "- Perche' la differenza tra fedsgd e fedavg sta in E \n",
    "- Di fatto si dovrebbe vedere che aumentando troppo E si rompe la convergenza \n",
    "- E = 1 -> FedSGD \n",
    "- E > 1 -> FedAvg funziona ma per E troppo grande non funziona piu'\n",
    "- Confronto dati iid e non iid e' interessante \n",
    "- Importante come gestisco e implemento i client paralleli (la parte piu' difficile da implementare)\n",
    "\n",
    "\n"
   ]
  }
 ],
 "metadata": {
  "kernelspec": {
   "display_name": "Python 3",
   "language": "python",
   "name": "python3"
  },
  "language_info": {
   "codemirror_mode": {
    "name": "ipython",
    "version": 3
   },
   "file_extension": ".py",
   "mimetype": "text/x-python",
   "name": "python",
   "nbconvert_exporter": "python",
   "pygments_lexer": "ipython3",
   "version": "3.10.11"
  }
 },
 "nbformat": 4,
 "nbformat_minor": 2
}

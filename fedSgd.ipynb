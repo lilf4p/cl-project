{
 "cells": [
  {
   "cell_type": "markdown",
   "metadata": {},
   "source": [
    "# Federated Learning with Pytorch\n",
    "## A Pytorch implementation of Federated Learning Algorithm FedAvg on MNIST dataset\n",
    "\n",
    "### TODO \n",
    "- [ ] Add solution description\n",
    "- [ ] Add code description\n",
    "- [ ] Add experiment results\n",
    "- [ ] Code refactoring: move the class in separate files and the main code in a separate file"
   ]
  }
 ],
 "metadata": {
  "language_info": {
   "name": "python"
  }
 },
 "nbformat": 4,
 "nbformat_minor": 2
}

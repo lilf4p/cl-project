{
 "cells": [
  {
   "cell_type": "markdown",
   "metadata": {},
   "source": [
    "# Federated Learning with Pytorch\n",
    "## A Pytorch implementation of Federated Learning Algorithm FedSGD on MNIST dataset"
   ]
  },
  {
   "cell_type": "markdown",
   "metadata": {},
   "source": [
    "Federated Learning is a machine learning setting where many clients (e.g. mobile devices or whole organizations) collaboratively train a model under the orchestration of a central server (e.g. service provider), while keeping the training data decentralized. Federated Learning represents a possible solution to the problem of data privacy and data security in machine learning. \n",
    "\n",
    "I implemented the Federated Learning algorithm FedSGD on the MNIST dataset using Pytorch. The algorithm is implemented in the `fedSgd` function. The `fedSgdPar` function is a parallel version where a thread is spawn for each client. The `Client` class represents a client in the federated learning system. The `Server` class represents the server in the federated learning system. The `models` class contains the neural network model implementation that I tested."
   ]
  },
  {
   "cell_type": "code",
   "execution_count": null,
   "metadata": {},
   "outputs": [
    {
     "name": "stderr",
     "output_type": "stream",
     "text": [
      "Round 0: 100%|██████████| 100/100 [00:40<00:00,  6.69it/s, loss=2.28]"
     ]
    }
   ],
   "source": [
    "from src.fedsgd import fedSgdPar, fedSgdSeq\n",
    "\n",
    "fedSgdPar()"
   ]
  },
  {
   "cell_type": "markdown",
   "metadata": {},
   "source": [
    "##### TODO \n",
    "- [ ] Add implementation code description: \n",
    "\t- [ ] `Client` class\n",
    "\t- [ ] `Server` class\n",
    "\t- [ ] `models` class\n",
    "\t- [ ] `fedSgdPar` and `fedSgd` algorithm (show the algorithm code)\n",
    "- [ ] Run experiment (from the paper)\n",
    "- [ ] Show results\n",
    "- [x] Code refactoring: move the class in separate files and the main code in a separate file"
   ]
  }
 ],
 "metadata": {
  "kernelspec": {
   "display_name": "Python 3",
   "language": "python",
   "name": "python3"
  },
  "language_info": {
   "codemirror_mode": {
    "name": "ipython",
    "version": 3
   },
   "file_extension": ".py",
   "mimetype": "text/x-python",
   "name": "python",
   "nbconvert_exporter": "python",
   "pygments_lexer": "ipython3",
   "version": "3.10.11"
  }
 },
 "nbformat": 4,
 "nbformat_minor": 2
}

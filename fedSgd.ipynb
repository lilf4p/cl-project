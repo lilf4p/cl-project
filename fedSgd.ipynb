{
 "cells": [
  {
   "cell_type": "markdown",
   "metadata": {},
   "source": [
    "# Federated Learning from scratch with Pytorch\n",
    "**A Pytorch implementation of the Federated Learning Algorithm FedAvg on MNIST dataset**"
   ]
  },
  {
   "cell_type": "markdown",
   "metadata": {},
   "source": [
    "## Introduction\n",
    "Federated Learning is a machine learning setting where many clients (e.g. mobile devices or whole organizations) collaboratively train a model under the orchestration of a central server (e.g. service provider), while keeping the training data decentralized. Federated Learning represents a possible solution to the problem of data privacy and data security in machine learning.\n",
    "\n",
    "In this project I implemented the Federated Learning algorithm **FedAvg** formulated by McMahan, et al. [1] which is a first approach to this challange.\n",
    "\n",
    "<img src=\"images/algo.png\" alt=\"Image Description\" width=\"400\" height=\"400\">\n",
    "\n",
    "Basically the algorithm is divided into two phases: the **Client Update** and the **Server Update**. In the **Client Update** phase, each client trains its local model on its local sample of data for the number of local epochs, using the local batch size. In the **Server Update** phase, the server averages the models weights of all the clients to create a new global model. This global model is then sent to all the clients to start a new round of training. In this way, the server never has access to the raw data but only to the model weights, and the global model is a good approximation of the model that would have been obtained by training on the entire dataset."
   ]
  },
  {
   "cell_type": "markdown",
   "metadata": {},
   "source": [
    "## Implementation\n",
    "\n",
    "I implemented the algorithm using Pytorch and I tested it on the MNIST dataset for semplicity. \n",
    "\n",
    "The project is divided into the following files:\n",
    "- `fedsgd.py`: the main file that contains the implementation of the FedAvg algorithm\n",
    "- `Client.py`: the file that contains the implementation of the `Client` class\n",
    "- `Server.py`: the file that contains the implementation of the `Server` class\n",
    "- `models.py`: the file that contains the implementation of the neural models\n",
    "\n",
    "### Client\n",
    "The `Client.py` file contains the implementation of the client class. Each client has its own dataloader, model and optimizer, the learning rate and the number of local epochs can be set by the user. The method `train` implements the **Client Update** phase.\n",
    "\n",
    "```python\n",
    "def train(self, num_epochs, patience, params, progress_bar):\n",
    "    self.model.load_state_dict(params)\n",
    "    self.model.train()\n",
    "    for epoch in range(num_epochs):\n",
    "        running_loss = 0.0\n",
    "        for batch_idx, (x, y) in enumerate(self.data):\n",
    "            x, y = x.to(self.device), y.to(self.device)\n",
    "            self.optimizer.zero_grad()\n",
    "            y_pred = self.model(x)\n",
    "            loss = self.loss_func(y_pred, y)\n",
    "            loss.backward()\n",
    "            self.optimizer.step()\n",
    "            running_loss += loss.item()\n",
    "        progress_bar.update(1)\n",
    "    progress_bar.set_postfix({\"loss\": running_loss / len(self.data)})\n",
    "    return running_loss / len(self.data)\n",
    "```\n",
    "\n",
    "### Server\n",
    "The `Server.py` file contains the implementation of the server class. The server has a model and a list of clients, it also has the method `aggregate` that implements the **Server Update** phase. Notice that the function does not return the new global model but it updates the model inplace.\n",
    "\n",
    "```python\n",
    "def aggregate(self):\n",
    "    params = [client.get_params() for client in self.clients]\n",
    "    avg_params = {}\n",
    "    for key in params[0].keys():\n",
    "        avg_params[key] = torch.stack(\n",
    "            [params[i][key] for i in range(len(params))], 0\n",
    "        ).mean(0)\n",
    "    self.model.load_state_dict(avg_params)\n",
    "```\n",
    "\n",
    "### Algorithm\n",
    "Finally the `fedsgd.py` file contains the main function that runs the experiment with the right configuration. The algorithm run for `T` rounds, first the server get the current global model state and then sends it to all the clients. Next the clients train their local model, which they updated to the new one, moving into their local optimizer direction for local epochs step and then they send the model back to the server. The server aggregates the models and sends the new global model to all the clients. At the end of the training the server evaluates the model on the test set.\n",
    "\n",
    "```python\n",
    "def fedSgdPar(\n",
    "    model=Cnn(),\n",
    "    T=5,                # number of rounds\n",
    "    K=10,               # number of clients\n",
    "    C=1,                # fraction of clients\n",
    "    E=10,               # number of local epochs\n",
    "    B=128,              # local batch size\n",
    "    num_samples=1000,   # number of training samples on each client\n",
    "    lr=0.01,            # learning rate\n",
    "    weight_decay=10e-6, # weight decay\n",
    "    patience=5,         # patience for early stopping\n",
    "):\n",
    "    # ... code ...\n",
    "    clients = []\n",
    "    for i in range(K):\n",
    "        client = Client(\n",
    "            i,\n",
    "            trainloader[i],\n",
    "            Cnn() if model.get_type() == \"Cnn\" else Net(),\n",
    "            lr=lr,\n",
    "            weight_decay=weight_decay,\n",
    "            device=device,\n",
    "        )\n",
    "        clients.append(client)\n",
    "    # ... code ...\n",
    "    clients_each_round = max(int(K * C), 1)\n",
    "    early_stopper = EarlyStopper(patience, min_delta=10e-3)\n",
    "    for r in range(T):\n",
    "        params = server.get_params()\n",
    "        progress_bar = tqdm.tqdm(\n",
    "            total=E * clients_each_round, position=0, leave=False, desc=\"Round %d\" % r\n",
    "        )\n",
    "        random_clients = random.sample(clients, clients_each_round)\n",
    "        joblib.Parallel(n_jobs=8, backend=\"threading\")(\n",
    "            joblib.delayed(client.train)(E, params, progress_bar)\n",
    "            for client in random_clients\n",
    "        )\n",
    "        server.aggregate(random_clients)\n",
    "        val_loss, val_acc = server.test(valoader)\n",
    "        val_losses.append(val_loss)\n",
    "        val_accs.append(val_acc)\n",
    "        if early_stopper.early_stop(val_loss):\n",
    "            if verbose:\n",
    "                print(\"Early stopping\")\n",
    "            break\n",
    "        if verbose:\n",
    "            print(\"Server - Val loss: %.3f, Val accuracy: %.3f\" % (val_loss, val_acc))\n",
    "\n",
    "```\n",
    "\n",
    "The dataset is splitted into training, validation and test set. The training set is divided into `K` clients, each client has a dataloader that samples `num_samples` samples from the training set. The validation set is used to evaluate the model at the end of each round, while the test set is used to evaluate the model at the end of the training. \n",
    "\n",
    "To simulate the parallel training of clients on different devices, I used a thread-pool implementation from the `joblib` module. First I create `K` clients, then I sample `C*K` clients to train at each round.\n",
    "\n",
    "This implemenation allows to test different configurations of the algorithm. In particular if we set `C = 1`, `E = 1` and `B = inf` we obtain the **FedSGD** algorithm, which is the baseline algorithm for the Federated Learning presented in the paper [1]."
   ]
  },
  {
   "cell_type": "markdown",
   "metadata": {},
   "source": [
    "## Experiments "
   ]
  },
  {
   "cell_type": "code",
   "execution_count": 1,
   "metadata": {},
   "outputs": [],
   "source": [
    "from src.fedsgd import fedSgdPar\n",
    "from src.models import Net, Cnn\n",
    "import seaborn as sns\n",
    "import matplotlib.pyplot as plt"
   ]
  },
  {
   "cell_type": "markdown",
   "metadata": {},
   "source": [
    "In this section I run some experimenst to test the algorithm on the MNIST dataset. All the experiments were executed on the Apple M1 Pro with CPU 8 core and GPU 16 core. Since the paper explore many configurations, I only tested the best performing configurations in terms of accuracy and communication rounds, because of time constraints and computational cost."
   ]
  },
  {
   "cell_type": "markdown",
   "metadata": {},
   "source": [
    "### Baseline FedSGD\n",
    "With C=1, E=1 and B=inf we obtain the **FedSGD** algorithm."
   ]
  },
  {
   "cell_type": "code",
   "execution_count": null,
   "metadata": {},
   "outputs": [],
   "source": [
    "result_net = fedSgdPar(model=Net(), T=20, K=10, C=1, E=1, B=480,\n",
    "                    num_samples=480, lr=0.1, patience=5, weight_decay=10e-5, noiid=False, verbose=False)\n",
    "\n",
    "result_cnn = fedSgdPar(model=Cnn(), T=20, K=10, C=1, E=1, B=480,\n",
    "                    num_samples=480, lr=0.1, patience=5, weight_decay=10e-5, noiid=False, verbose=False)"
   ]
  },
  {
   "cell_type": "code",
   "execution_count": null,
   "metadata": {},
   "outputs": [],
   "source": [
    "# plot baseline sgd net vs cnn"
   ]
  },
  {
   "cell_type": "markdown",
   "metadata": {},
   "source": [
    "### FedAvg\n",
    "Increasing the number of local epochs each client do more steps in the direction of the local optimizer. Reducing the number of clients that train at each round works as a regularization technique. As shown in [1] using B=10 we obtain a significant improvement in the comunication rounds to converge to the same accuracy."
   ]
  },
  {
   "cell_type": "code",
   "execution_count": 1,
   "metadata": {},
   "outputs": [
    {
     "name": "stdout",
     "output_type": "stream",
     "text": [
      "Running the Parallel implementation FedSGD on MNIST dataset\n",
      "- Parameters: T=20, K=100, C=0.1, E=5, B=10, num_samples=480, lr=0.1, weight_decay=0.0001, patience=5\n",
      "- Model: Net\n",
      "- Data Split:  48000 12000 10000\n"
     ]
    },
    {
     "name": "stderr",
     "output_type": "stream",
     "text": [
      "Round 0: 100%|██████████| 50/50 [00:06<00:00, 10.27it/s, loss=0.107] "
     ]
    },
    {
     "name": "stdout",
     "output_type": "stream",
     "text": [
      "Server - Val loss: 0.355, Val accuracy: 0.894\n"
     ]
    },
    {
     "name": "stderr",
     "output_type": "stream",
     "text": [
      "Round 1: 100%|██████████| 50/50 [00:06<00:00,  9.73it/s, loss=0.00851]"
     ]
    },
    {
     "name": "stdout",
     "output_type": "stream",
     "text": [
      "Server - Val loss: 0.325, Val accuracy: 0.908\n"
     ]
    },
    {
     "name": "stderr",
     "output_type": "stream",
     "text": [
      "Round 2: 100%|██████████| 50/50 [00:06<00:00, 10.20it/s, loss=0.00507]"
     ]
    },
    {
     "name": "stdout",
     "output_type": "stream",
     "text": [
      "Server - Val loss: 0.294, Val accuracy: 0.919\n"
     ]
    },
    {
     "name": "stderr",
     "output_type": "stream",
     "text": [
      "Round 3: 100%|██████████| 50/50 [00:06<00:00,  9.04it/s, loss=0.00355]"
     ]
    },
    {
     "name": "stdout",
     "output_type": "stream",
     "text": [
      "Server - Val loss: 0.268, Val accuracy: 0.927\n"
     ]
    },
    {
     "name": "stderr",
     "output_type": "stream",
     "text": [
      "Round 4: 100%|██████████| 50/50 [00:06<00:00,  9.19it/s, loss=0.00291]"
     ]
    },
    {
     "name": "stdout",
     "output_type": "stream",
     "text": [
      "Server - Val loss: 0.255, Val accuracy: 0.931\n"
     ]
    },
    {
     "name": "stderr",
     "output_type": "stream",
     "text": [
      "Round 5: 100%|██████████| 50/50 [00:06<00:00,  9.67it/s, loss=0.00197]"
     ]
    },
    {
     "name": "stdout",
     "output_type": "stream",
     "text": [
      "Server - Val loss: 0.240, Val accuracy: 0.936\n"
     ]
    },
    {
     "name": "stderr",
     "output_type": "stream",
     "text": [
      "Round 6: 100%|██████████| 50/50 [00:06<00:00,  9.41it/s, loss=0.00153]"
     ]
    },
    {
     "name": "stdout",
     "output_type": "stream",
     "text": [
      "Server - Val loss: 0.243, Val accuracy: 0.938\n"
     ]
    },
    {
     "name": "stderr",
     "output_type": "stream",
     "text": [
      "Round 7: 100%|██████████| 50/50 [00:06<00:00,  9.62it/s, loss=0.00166]"
     ]
    },
    {
     "name": "stdout",
     "output_type": "stream",
     "text": [
      "Server - Val loss: 0.232, Val accuracy: 0.941\n"
     ]
    },
    {
     "name": "stderr",
     "output_type": "stream",
     "text": [
      "Round 8: 100%|██████████| 50/50 [00:06<00:00,  9.34it/s, loss=0.0022] "
     ]
    },
    {
     "name": "stdout",
     "output_type": "stream",
     "text": [
      "Server - Val loss: 0.232, Val accuracy: 0.942\n"
     ]
    },
    {
     "name": "stderr",
     "output_type": "stream",
     "text": [
      "Round 9: 100%|██████████| 50/50 [00:06<00:00,  9.18it/s, loss=0.00187]"
     ]
    },
    {
     "name": "stdout",
     "output_type": "stream",
     "text": [
      "Server - Val loss: 0.231, Val accuracy: 0.944\n"
     ]
    },
    {
     "name": "stderr",
     "output_type": "stream",
     "text": [
      "Round 10: 100%|██████████| 50/50 [00:06<00:00,  9.64it/s, loss=0.000878]"
     ]
    },
    {
     "name": "stdout",
     "output_type": "stream",
     "text": [
      "Server - Val loss: 0.228, Val accuracy: 0.945\n"
     ]
    },
    {
     "name": "stderr",
     "output_type": "stream",
     "text": [
      "Round 11: 100%|██████████| 50/50 [00:06<00:00,  9.67it/s, loss=0.00085] "
     ]
    },
    {
     "name": "stdout",
     "output_type": "stream",
     "text": [
      "Server - Val loss: 0.226, Val accuracy: 0.945\n"
     ]
    },
    {
     "name": "stderr",
     "output_type": "stream",
     "text": [
      "Round 12: 100%|██████████| 50/50 [00:06<00:00,  9.35it/s, loss=0.000984]"
     ]
    },
    {
     "name": "stdout",
     "output_type": "stream",
     "text": [
      "Server - Val loss: 0.229, Val accuracy: 0.946\n"
     ]
    },
    {
     "name": "stderr",
     "output_type": "stream",
     "text": [
      "Round 13: 100%|██████████| 50/50 [00:06<00:00,  9.84it/s, loss=0.000899]"
     ]
    },
    {
     "name": "stdout",
     "output_type": "stream",
     "text": [
      "Server - Val loss: 0.234, Val accuracy: 0.946\n"
     ]
    },
    {
     "name": "stderr",
     "output_type": "stream",
     "text": [
      "Round 14: 100%|██████████| 50/50 [00:06<00:00,  9.69it/s, loss=0.000734]"
     ]
    },
    {
     "name": "stdout",
     "output_type": "stream",
     "text": [
      "Server - Val loss: 0.233, Val accuracy: 0.946\n"
     ]
    },
    {
     "name": "stderr",
     "output_type": "stream",
     "text": [
      "Round 15: 100%|██████████| 50/50 [00:06<00:00,  9.29it/s, loss=0.000695]"
     ]
    },
    {
     "name": "stdout",
     "output_type": "stream",
     "text": [
      "Server - Val loss: 0.233, Val accuracy: 0.947\n"
     ]
    },
    {
     "name": "stderr",
     "output_type": "stream",
     "text": [
      "Round 16: 100%|██████████| 50/50 [00:06<00:00,  9.16it/s, loss=0.000626]"
     ]
    },
    {
     "name": "stdout",
     "output_type": "stream",
     "text": [
      "Server - Val loss: 0.239, Val accuracy: 0.947\n"
     ]
    },
    {
     "name": "stderr",
     "output_type": "stream",
     "text": [
      "Round 17: 100%|██████████| 50/50 [00:06<00:00,  9.05it/s, loss=0.000584]"
     ]
    },
    {
     "name": "stdout",
     "output_type": "stream",
     "text": [
      "Server - Val loss: 0.241, Val accuracy: 0.946\n"
     ]
    },
    {
     "name": "stderr",
     "output_type": "stream",
     "text": [
      "Round 18: 100%|██████████| 50/50 [00:06<00:00,  9.87it/s, loss=0.000595]"
     ]
    },
    {
     "name": "stdout",
     "output_type": "stream",
     "text": [
      "Server - Val loss: 0.243, Val accuracy: 0.947\n"
     ]
    },
    {
     "name": "stderr",
     "output_type": "stream",
     "text": [
      "Round 19: 100%|██████████| 50/50 [00:06<00:00,  9.44it/s, loss=0.000552]"
     ]
    },
    {
     "name": "stdout",
     "output_type": "stream",
     "text": [
      "Server - Val loss: 0.246, Val accuracy: 0.947\n"
     ]
    },
    {
     "name": "stderr",
     "output_type": "stream",
     "text": [
      "                                                                        "
     ]
    },
    {
     "name": "stdout",
     "output_type": "stream",
     "text": [
      "-- Test loss: 0.220, Test accuracy: 0.951 --\n"
     ]
    },
    {
     "name": "stderr",
     "output_type": "stream",
     "text": [
      "\r"
     ]
    }
   ],
   "source": [
    "result0 = fedSgdPar(model=Net(), T=20, K=100, C=0.1, E=5, B=10,\n",
    "                    num_samples=480, lr=0.1, patience=5, weight_decay=10e-5, noiid=False)"
   ]
  },
  {
   "cell_type": "code",
   "execution_count": 87,
   "metadata": {},
   "outputs": [
    {
     "data": {
      "image/png": "[encoded data removed]",
      "text/plain": [
       "<Figure size 1500x600 with 2 Axes>"
      ]
     },
     "metadata": {},
     "output_type": "display_data"
    }
   ],
   "source": [
    "val_losses = result0['val_losses']\n",
    "val_accs = result0['val_accs']\n",
    "\n",
    "fig, axs = plt.subplots(1, 2, figsize=(15, 6))\n",
    "\n",
    "sns.set_context(\"notebook\", font_scale=1.5, rc={\"lines.linewidth\": 2.5, 'axes.labelsize': 18})\n",
    "sns.set_style(\"whitegrid\")\n",
    "sns.set_palette(\"Set2\")\n",
    "plt.rcParams['font.family'] = 'iA Writer Quattro V'\n",
    "\n",
    "sns.lineplot(x=range(len(val_losses)), y=val_losses, ax=axs[0], color=sns.color_palette()[0], marker='o')\n",
    "axs[0].set_xlabel('Round')\n",
    "axs[0].set_ylabel('Loss')\n",
    "\n",
    "sns.lineplot(x=range(len(val_accs)), y=val_accs, ax=axs[1], color=sns.color_palette()[1], marker='o')\n",
    "axs[1].set_xlabel('Round')\n",
    "axs[1].set_ylabel('Accuracy')\n",
    "\n",
    "fig.suptitle('FedSGD NN on MNIST IID')\n",
    "\n",
    "for ax in axs:\n",
    "    ax.xaxis.set_major_locator(plt.MaxNLocator(integer=True))"
   ]
  },
  {
   "cell_type": "code",
   "execution_count": 70,
   "metadata": {},
   "outputs": [
    {
     "name": "stdout",
     "output_type": "stream",
     "text": [
      "Running the Parallel implementation FedSGD on MNIST dataset\n",
      "- Parameters: T=20, K=100, C=0.1, E=5, B=10, num_samples=480, lr=0.01, weight_decay=0.0001, patience=5\n",
      "- Model: Cnn\n",
      "- Data Split:  48000 12000 10000\n"
     ]
    },
    {
     "name": "stderr",
     "output_type": "stream",
     "text": [
      "Round 0: 100%|██████████| 50/50 [00:11<00:00,  5.66it/s, loss=0.48] "
     ]
    },
    {
     "name": "stdout",
     "output_type": "stream",
     "text": [
      "Server - Val loss: 0.408, Val accuracy: 0.893\n"
     ]
    },
    {
     "name": "stderr",
     "output_type": "stream",
     "text": [
      "Round 1: 100%|██████████| 50/50 [00:11<00:00,  5.46it/s, loss=0.223]"
     ]
    },
    {
     "name": "stdout",
     "output_type": "stream",
     "text": [
      "Server - Val loss: 0.249, Val accuracy: 0.927\n"
     ]
    },
    {
     "name": "stderr",
     "output_type": "stream",
     "text": [
      "Round 2: 100%|██████████| 50/50 [00:11<00:00,  5.58it/s, loss=0.113] "
     ]
    },
    {
     "name": "stdout",
     "output_type": "stream",
     "text": [
      "Server - Val loss: 0.198, Val accuracy: 0.939\n"
     ]
    },
    {
     "name": "stderr",
     "output_type": "stream",
     "text": [
      "Round 3: 100%|██████████| 50/50 [00:10<00:00,  6.06it/s, loss=0.0592]"
     ]
    },
    {
     "name": "stdout",
     "output_type": "stream",
     "text": [
      "Server - Val loss: 0.174, Val accuracy: 0.948\n"
     ]
    },
    {
     "name": "stderr",
     "output_type": "stream",
     "text": [
      "Round 4: 100%|██████████| 50/50 [00:09<00:00,  5.48it/s, loss=0.0417]"
     ]
    },
    {
     "name": "stdout",
     "output_type": "stream",
     "text": [
      "Server - Val loss: 0.154, Val accuracy: 0.954\n"
     ]
    },
    {
     "name": "stderr",
     "output_type": "stream",
     "text": [
      "Round 5: 100%|██████████| 50/50 [00:10<00:00,  5.90it/s, loss=0.0298]"
     ]
    },
    {
     "name": "stdout",
     "output_type": "stream",
     "text": [
      "Server - Val loss: 0.143, Val accuracy: 0.958\n"
     ]
    },
    {
     "name": "stderr",
     "output_type": "stream",
     "text": [
      "Round 6: 100%|██████████| 50/50 [00:09<00:00,  6.27it/s, loss=0.0152]"
     ]
    },
    {
     "name": "stdout",
     "output_type": "stream",
     "text": [
      "Server - Val loss: 0.134, Val accuracy: 0.961\n"
     ]
    },
    {
     "name": "stderr",
     "output_type": "stream",
     "text": [
      "Round 7: 100%|██████████| 50/50 [00:10<00:00,  5.81it/s, loss=0.0199]"
     ]
    },
    {
     "name": "stdout",
     "output_type": "stream",
     "text": [
      "Server - Val loss: 0.128, Val accuracy: 0.963\n"
     ]
    },
    {
     "name": "stderr",
     "output_type": "stream",
     "text": [
      "Round 8: 100%|██████████| 50/50 [00:10<00:00,  6.27it/s, loss=0.0164] "
     ]
    },
    {
     "name": "stdout",
     "output_type": "stream",
     "text": [
      "Server - Val loss: 0.124, Val accuracy: 0.965\n"
     ]
    },
    {
     "name": "stderr",
     "output_type": "stream",
     "text": [
      "Round 9: 100%|██████████| 50/50 [00:10<00:00,  5.98it/s, loss=0.00769]"
     ]
    },
    {
     "name": "stdout",
     "output_type": "stream",
     "text": [
      "Server - Val loss: 0.120, Val accuracy: 0.966\n"
     ]
    },
    {
     "name": "stderr",
     "output_type": "stream",
     "text": [
      "Round 10: 100%|██████████| 50/50 [00:10<00:00,  5.81it/s, loss=0.00838]"
     ]
    },
    {
     "name": "stdout",
     "output_type": "stream",
     "text": [
      "Server - Val loss: 0.119, Val accuracy: 0.967\n"
     ]
    },
    {
     "name": "stderr",
     "output_type": "stream",
     "text": [
      "Round 11: 100%|██████████| 50/50 [00:11<00:00,  5.43it/s, loss=0.00613]"
     ]
    },
    {
     "name": "stdout",
     "output_type": "stream",
     "text": [
      "Server - Val loss: 0.116, Val accuracy: 0.968\n"
     ]
    },
    {
     "name": "stderr",
     "output_type": "stream",
     "text": [
      "Round 12: 100%|██████████| 50/50 [00:10<00:00,  5.82it/s, loss=0.00661]"
     ]
    },
    {
     "name": "stdout",
     "output_type": "stream",
     "text": [
      "Server - Val loss: 0.113, Val accuracy: 0.969\n"
     ]
    },
    {
     "name": "stderr",
     "output_type": "stream",
     "text": [
      "Round 13: 100%|██████████| 50/50 [00:09<00:00,  5.93it/s, loss=0.00431]"
     ]
    },
    {
     "name": "stdout",
     "output_type": "stream",
     "text": [
      "Server - Val loss: 0.111, Val accuracy: 0.969\n"
     ]
    },
    {
     "name": "stderr",
     "output_type": "stream",
     "text": [
      "Round 14: 100%|██████████| 50/50 [00:10<00:00,  5.62it/s, loss=0.00817]"
     ]
    },
    {
     "name": "stdout",
     "output_type": "stream",
     "text": [
      "Server - Val loss: 0.109, Val accuracy: 0.969\n"
     ]
    },
    {
     "name": "stderr",
     "output_type": "stream",
     "text": [
      "Round 15: 100%|██████████| 50/50 [00:10<00:00,  5.47it/s, loss=0.00473]"
     ]
    },
    {
     "name": "stdout",
     "output_type": "stream",
     "text": [
      "Server - Val loss: 0.109, Val accuracy: 0.971\n"
     ]
    },
    {
     "name": "stderr",
     "output_type": "stream",
     "text": [
      "Round 16: 100%|██████████| 50/50 [00:10<00:00,  5.88it/s, loss=0.00299]"
     ]
    },
    {
     "name": "stdout",
     "output_type": "stream",
     "text": [
      "Server - Val loss: 0.107, Val accuracy: 0.971\n"
     ]
    },
    {
     "name": "stderr",
     "output_type": "stream",
     "text": [
      "Round 17: 100%|██████████| 50/50 [00:10<00:00,  5.04it/s, loss=0.00376]"
     ]
    },
    {
     "name": "stdout",
     "output_type": "stream",
     "text": [
      "Server - Val loss: 0.106, Val accuracy: 0.971\n"
     ]
    },
    {
     "name": "stderr",
     "output_type": "stream",
     "text": [
      "Round 18: 100%|██████████| 50/50 [00:11<00:00,  5.60it/s, loss=0.003]  "
     ]
    },
    {
     "name": "stdout",
     "output_type": "stream",
     "text": [
      "Server - Val loss: 0.106, Val accuracy: 0.971\n"
     ]
    },
    {
     "name": "stderr",
     "output_type": "stream",
     "text": [
      "Round 19: 100%|██████████| 50/50 [00:11<00:00,  5.73it/s, loss=0.00322]"
     ]
    },
    {
     "name": "stdout",
     "output_type": "stream",
     "text": [
      "Server - Val loss: 0.106, Val accuracy: 0.971\n"
     ]
    },
    {
     "name": "stderr",
     "output_type": "stream",
     "text": [
      "                                                                       "
     ]
    },
    {
     "name": "stdout",
     "output_type": "stream",
     "text": [
      "-- Test loss: 0.086, Test accuracy: 0.975 --\n"
     ]
    },
    {
     "name": "stderr",
     "output_type": "stream",
     "text": [
      "\r"
     ]
    }
   ],
   "source": [
    "result1 = fedSgdPar(model=Cnn(), T=20, K=100, C=0.1, E=5, B=10,\n",
    "                    num_samples=480, lr=0.01, patience=5, weight_decay=10e-5, noiid=False)"
   ]
  },
  {
   "cell_type": "code",
   "execution_count": 88,
   "metadata": {},
   "outputs": [
    {
     "data": {
      "image/png": "[encoded data removed]",
      "text/plain": [
       "<Figure size 1500x600 with 2 Axes>"
      ]
     },
     "metadata": {},
     "output_type": "display_data"
    }
   ],
   "source": [
    "val_losses = result1['val_losses']\n",
    "val_accs = result1['val_accs']\n",
    "\n",
    "fig, axs = plt.subplots(1, 2, figsize=(15, 6))\n",
    "\n",
    "sns.set_context(\"notebook\", font_scale=1.5, rc={\"lines.linewidth\": 2.5, 'axes.labelsize': 18})\n",
    "sns.set_style(\"whitegrid\")\n",
    "sns.set_palette(\"Set2\")\n",
    "plt.rcParams['font.family'] = 'iA Writer Quattro V'\n",
    "\n",
    "sns.lineplot(x=range(len(val_losses)), y=val_losses, ax=axs[0], color=sns.color_palette()[0], marker='o')\n",
    "axs[0].set_xlabel('Round')\n",
    "axs[0].set_ylabel('Loss')\n",
    "\n",
    "sns.lineplot(x=range(len(val_accs)), y=val_accs, ax=axs[1], color=sns.color_palette()[1], marker='o')\n",
    "axs[1].set_xlabel('Round')\n",
    "axs[1].set_ylabel('Accuracy')\n",
    "\n",
    "fig.suptitle('FedSGD CNN on MNIST IID')\n",
    "\n",
    "for ax in axs:\n",
    "    ax.xaxis.set_major_locator(plt.MaxNLocator(integer=True))"
   ]
  },
  {
   "cell_type": "markdown",
   "metadata": {},
   "source": [
    "### Varying the number of local epochs **E**\n",
    "Now we compare the performance of the algorithm with different number of local epochs (E), with C, B and K fixed. Interestingly, as shown in the paper the algorithm converge also for bigger values of E on the MNIST dataset."
   ]
  },
  {
   "cell_type": "code",
   "execution_count": 8,
   "metadata": {},
   "outputs": [
    {
     "name": "stdout",
     "output_type": "stream",
     "text": [
      "E = 1\n",
      "Running the Parallel implementation FedSGD on MNIST dataset\n",
      "- Parameters: T=20, K=100, C=0.1, E=1, B=10, num_samples=480, lr=0.1, weight_decay=0.0001, patience=15\n",
      "- Model: Net\n",
      "- Data Split:  48000 12000 10000\n",
      "Using IID data\n"
     ]
    },
    {
     "name": "stderr",
     "output_type": "stream",
     "text": [
      "Round 0: 100%|██████████| 10/10 [00:01<00:00,  8.95it/s, loss=1.57]"
     ]
    },
    {
     "name": "stdout",
     "output_type": "stream",
     "text": [
      "Server - Val loss: 2.300, Val accuracy: 0.192\n"
     ]
    },
    {
     "name": "stderr",
     "output_type": "stream",
     "text": [
      "Round 1: 100%|██████████| 10/10 [00:01<00:00,  9.88it/s, loss=2.29]"
     ]
    },
    {
     "name": "stdout",
     "output_type": "stream",
     "text": [
      "Server - Val loss: 2.300, Val accuracy: 0.328\n"
     ]
    },
    {
     "name": "stderr",
     "output_type": "stream",
     "text": [
      "Round 2: 100%|██████████| 10/10 [00:01<00:00,  8.41it/s, loss=2.29]"
     ]
    },
    {
     "name": "stdout",
     "output_type": "stream",
     "text": [
      "Server - Val loss: 2.298, Val accuracy: 0.403\n"
     ]
    },
    {
     "name": "stderr",
     "output_type": "stream",
     "text": [
      "Round 3: 100%|██████████| 10/10 [00:01<00:00,  8.38it/s, loss=2.28]"
     ]
    },
    {
     "name": "stdout",
     "output_type": "stream",
     "text": [
      "Server - Val loss: 2.296, Val accuracy: 0.385\n"
     ]
    },
    {
     "name": "stderr",
     "output_type": "stream",
     "text": [
      "Round 4: 100%|██████████| 10/10 [00:01<00:00, 11.14it/s, loss=2.23]"
     ]
    },
    {
     "name": "stdout",
     "output_type": "stream",
     "text": [
      "Server - Val loss: 2.291, Val accuracy: 0.410\n"
     ]
    },
    {
     "name": "stderr",
     "output_type": "stream",
     "text": [
      "Round 5: 100%|██████████| 10/10 [00:01<00:00,  7.95it/s, loss=2.14]"
     ]
    },
    {
     "name": "stdout",
     "output_type": "stream",
     "text": [
      "Server - Val loss: 2.274, Val accuracy: 0.450\n"
     ]
    },
    {
     "name": "stderr",
     "output_type": "stream",
     "text": [
      "Round 6: 100%|██████████| 10/10 [00:01<00:00,  9.63it/s, loss=1.99]"
     ]
    },
    {
     "name": "stdout",
     "output_type": "stream",
     "text": [
      "Server - Val loss: 2.237, Val accuracy: 0.479\n"
     ]
    },
    {
     "name": "stderr",
     "output_type": "stream",
     "text": [
      "Round 7: 100%|██████████| 10/10 [00:01<00:00,  8.28it/s, loss=1.8] "
     ]
    },
    {
     "name": "stdout",
     "output_type": "stream",
     "text": [
      "Server - Val loss: 2.210, Val accuracy: 0.544\n"
     ]
    },
    {
     "name": "stderr",
     "output_type": "stream",
     "text": [
      "Round 8: 100%|██████████| 10/10 [00:01<00:00, 10.36it/s, loss=1.72]"
     ]
    },
    {
     "name": "stdout",
     "output_type": "stream",
     "text": [
      "Server - Val loss: 2.126, Val accuracy: 0.583\n"
     ]
    },
    {
     "name": "stderr",
     "output_type": "stream",
     "text": [
      "Round 9: 100%|██████████| 10/10 [00:01<00:00,  8.29it/s, loss=1.57]"
     ]
    },
    {
     "name": "stdout",
     "output_type": "stream",
     "text": [
      "Server - Val loss: 2.075, Val accuracy: 0.621\n"
     ]
    },
    {
     "name": "stderr",
     "output_type": "stream",
     "text": [
      "Round 10: 100%|██████████| 10/10 [00:01<00:00, 10.83it/s, loss=1.43]"
     ]
    },
    {
     "name": "stdout",
     "output_type": "stream",
     "text": [
      "Server - Val loss: 1.982, Val accuracy: 0.640\n"
     ]
    },
    {
     "name": "stderr",
     "output_type": "stream",
     "text": [
      "Round 11: 100%|██████████| 10/10 [00:01<00:00,  9.52it/s, loss=1.5] "
     ]
    },
    {
     "name": "stdout",
     "output_type": "stream",
     "text": [
      "Server - Val loss: 1.838, Val accuracy: 0.657\n"
     ]
    },
    {
     "name": "stderr",
     "output_type": "stream",
     "text": [
      "Round 12: 100%|██████████| 10/10 [00:01<00:00, 11.05it/s, loss=1.3] "
     ]
    },
    {
     "name": "stdout",
     "output_type": "stream",
     "text": [
      "Server - Val loss: 1.746, Val accuracy: 0.672\n"
     ]
    },
    {
     "name": "stderr",
     "output_type": "stream",
     "text": [
      "Round 13: 100%|██████████| 10/10 [00:01<00:00,  8.58it/s, loss=1.31]"
     ]
    },
    {
     "name": "stdout",
     "output_type": "stream",
     "text": [
      "Server - Val loss: 1.672, Val accuracy: 0.684\n"
     ]
    },
    {
     "name": "stderr",
     "output_type": "stream",
     "text": [
      "Round 14: 100%|██████████| 10/10 [00:01<00:00,  9.87it/s, loss=1.3] "
     ]
    },
    {
     "name": "stdout",
     "output_type": "stream",
     "text": [
      "Server - Val loss: 1.553, Val accuracy: 0.692\n"
     ]
    },
    {
     "name": "stderr",
     "output_type": "stream",
     "text": [
      "Round 15: 100%|██████████| 10/10 [00:01<00:00,  9.63it/s, loss=1.22]"
     ]
    },
    {
     "name": "stdout",
     "output_type": "stream",
     "text": [
      "Server - Val loss: 1.425, Val accuracy: 0.703\n"
     ]
    },
    {
     "name": "stderr",
     "output_type": "stream",
     "text": [
      "Round 16: 100%|██████████| 10/10 [00:01<00:00,  9.74it/s, loss=1.13]"
     ]
    },
    {
     "name": "stdout",
     "output_type": "stream",
     "text": [
      "Server - Val loss: 1.366, Val accuracy: 0.713\n"
     ]
    },
    {
     "name": "stderr",
     "output_type": "stream",
     "text": [
      "Round 17: 100%|██████████| 10/10 [00:01<00:00,  9.48it/s, loss=1.07]"
     ]
    },
    {
     "name": "stdout",
     "output_type": "stream",
     "text": [
      "Server - Val loss: 1.238, Val accuracy: 0.729\n"
     ]
    },
    {
     "name": "stderr",
     "output_type": "stream",
     "text": [
      "Round 18: 100%|██████████| 10/10 [00:01<00:00,  9.04it/s, loss=1.05]"
     ]
    },
    {
     "name": "stdout",
     "output_type": "stream",
     "text": [
      "Server - Val loss: 1.175, Val accuracy: 0.736\n"
     ]
    },
    {
     "name": "stderr",
     "output_type": "stream",
     "text": [
      "Round 19: 100%|██████████| 10/10 [00:01<00:00,  7.98it/s, loss=1.09]"
     ]
    },
    {
     "name": "stdout",
     "output_type": "stream",
     "text": [
      "Server - Val loss: 1.091, Val accuracy: 0.746\n"
     ]
    },
    {
     "name": "stderr",
     "output_type": "stream",
     "text": [
      "                                                                    "
     ]
    },
    {
     "name": "stdout",
     "output_type": "stream",
     "text": [
      "-- Test loss: 1.071, Test accuracy: 0.755 --\n",
      "E = 3\n",
      "Running the Parallel implementation FedSGD on MNIST dataset\n",
      "- Parameters: T=20, K=100, C=0.1, E=3, B=10, num_samples=480, lr=0.1, weight_decay=0.0001, patience=15\n",
      "- Model: Net\n",
      "- Data Split:  48000 12000 10000\n",
      "Using IID data\n"
     ]
    },
    {
     "name": "stderr",
     "output_type": "stream",
     "text": [
      "Round 0: 100%|██████████| 30/30 [00:04<00:00,  8.36it/s, loss=0.627]"
     ]
    },
    {
     "name": "stdout",
     "output_type": "stream",
     "text": [
      "Server - Val loss: 2.294, Val accuracy: 0.187\n"
     ]
    },
    {
     "name": "stderr",
     "output_type": "stream",
     "text": [
      "Round 1: 100%|██████████| 30/30 [00:04<00:00,  8.62it/s, loss=0.934]"
     ]
    },
    {
     "name": "stdout",
     "output_type": "stream",
     "text": [
      "Server - Val loss: 2.262, Val accuracy: 0.670\n"
     ]
    },
    {
     "name": "stderr",
     "output_type": "stream",
     "text": [
      "Round 2: 100%|██████████| 30/30 [00:04<00:00,  8.76it/s, loss=0.716]"
     ]
    },
    {
     "name": "stdout",
     "output_type": "stream",
     "text": [
      "Server - Val loss: 2.201, Val accuracy: 0.819\n"
     ]
    },
    {
     "name": "stderr",
     "output_type": "stream",
     "text": [
      "Round 3: 100%|██████████| 30/30 [00:04<00:00,  8.96it/s, loss=0.52] "
     ]
    },
    {
     "name": "stdout",
     "output_type": "stream",
     "text": [
      "Server - Val loss: 2.114, Val accuracy: 0.852\n"
     ]
    },
    {
     "name": "stderr",
     "output_type": "stream",
     "text": [
      "Round 4: 100%|██████████| 30/30 [00:04<00:00,  9.56it/s, loss=0.471]"
     ]
    },
    {
     "name": "stdout",
     "output_type": "stream",
     "text": [
      "Server - Val loss: 2.029, Val accuracy: 0.862\n"
     ]
    },
    {
     "name": "stderr",
     "output_type": "stream",
     "text": [
      "Round 5: 100%|██████████| 30/30 [00:04<00:00,  8.78it/s, loss=0.456]"
     ]
    },
    {
     "name": "stdout",
     "output_type": "stream",
     "text": [
      "Server - Val loss: 1.789, Val accuracy: 0.870\n"
     ]
    },
    {
     "name": "stderr",
     "output_type": "stream",
     "text": [
      "Round 6: 100%|██████████| 30/30 [00:04<00:00, 10.72it/s, loss=0.384]"
     ]
    },
    {
     "name": "stdout",
     "output_type": "stream",
     "text": [
      "Server - Val loss: 1.516, Val accuracy: 0.873\n"
     ]
    },
    {
     "name": "stderr",
     "output_type": "stream",
     "text": [
      "Round 7: 100%|██████████| 30/30 [00:04<00:00,  8.73it/s, loss=0.422]"
     ]
    },
    {
     "name": "stdout",
     "output_type": "stream",
     "text": [
      "Server - Val loss: 1.466, Val accuracy: 0.876\n"
     ]
    },
    {
     "name": "stderr",
     "output_type": "stream",
     "text": [
      "Round 8: 100%|██████████| 30/30 [00:04<00:00, 11.05it/s, loss=0.339]"
     ]
    },
    {
     "name": "stdout",
     "output_type": "stream",
     "text": [
      "Server - Val loss: 1.190, Val accuracy: 0.878\n"
     ]
    },
    {
     "name": "stderr",
     "output_type": "stream",
     "text": [
      "Round 9: 100%|██████████| 30/30 [00:03<00:00, 10.82it/s, loss=0.321]"
     ]
    },
    {
     "name": "stdout",
     "output_type": "stream",
     "text": [
      "Server - Val loss: 1.102, Val accuracy: 0.880\n"
     ]
    },
    {
     "name": "stderr",
     "output_type": "stream",
     "text": [
      "Round 10: 100%|██████████| 30/30 [00:03<00:00,  9.92it/s, loss=0.277]"
     ]
    },
    {
     "name": "stdout",
     "output_type": "stream",
     "text": [
      "Server - Val loss: 0.944, Val accuracy: 0.881\n"
     ]
    },
    {
     "name": "stderr",
     "output_type": "stream",
     "text": [
      "Round 11: 100%|██████████| 30/30 [00:03<00:00,  9.88it/s, loss=0.285]"
     ]
    },
    {
     "name": "stdout",
     "output_type": "stream",
     "text": [
      "Server - Val loss: 0.790, Val accuracy: 0.885\n"
     ]
    },
    {
     "name": "stderr",
     "output_type": "stream",
     "text": [
      "Round 12: 100%|██████████| 30/30 [00:03<00:00,  9.99it/s, loss=0.229]"
     ]
    },
    {
     "name": "stdout",
     "output_type": "stream",
     "text": [
      "Server - Val loss: 0.688, Val accuracy: 0.887\n"
     ]
    },
    {
     "name": "stderr",
     "output_type": "stream",
     "text": [
      "Round 13: 100%|██████████| 30/30 [00:03<00:00, 10.03it/s, loss=0.243]"
     ]
    },
    {
     "name": "stdout",
     "output_type": "stream",
     "text": [
      "Server - Val loss: 0.628, Val accuracy: 0.888\n"
     ]
    },
    {
     "name": "stderr",
     "output_type": "stream",
     "text": [
      "Round 14: 100%|██████████| 30/30 [00:03<00:00, 10.93it/s, loss=0.194]"
     ]
    },
    {
     "name": "stdout",
     "output_type": "stream",
     "text": [
      "Server - Val loss: 0.545, Val accuracy: 0.890\n"
     ]
    },
    {
     "name": "stderr",
     "output_type": "stream",
     "text": [
      "Round 15: 100%|██████████| 30/30 [00:04<00:00,  7.98it/s, loss=0.304]"
     ]
    },
    {
     "name": "stdout",
     "output_type": "stream",
     "text": [
      "Server - Val loss: 0.470, Val accuracy: 0.892\n"
     ]
    },
    {
     "name": "stderr",
     "output_type": "stream",
     "text": [
      "Round 16: 100%|██████████| 30/30 [00:04<00:00,  9.37it/s, loss=0.157]"
     ]
    },
    {
     "name": "stdout",
     "output_type": "stream",
     "text": [
      "Server - Val loss: 0.451, Val accuracy: 0.892\n"
     ]
    },
    {
     "name": "stderr",
     "output_type": "stream",
     "text": [
      "Round 17: 100%|██████████| 30/30 [00:04<00:00,  8.95it/s, loss=0.155]"
     ]
    },
    {
     "name": "stdout",
     "output_type": "stream",
     "text": [
      "Server - Val loss: 0.415, Val accuracy: 0.894\n"
     ]
    },
    {
     "name": "stderr",
     "output_type": "stream",
     "text": [
      "Round 18: 100%|██████████| 30/30 [00:04<00:00,  8.93it/s, loss=0.174]"
     ]
    },
    {
     "name": "stdout",
     "output_type": "stream",
     "text": [
      "Server - Val loss: 0.397, Val accuracy: 0.895\n"
     ]
    },
    {
     "name": "stderr",
     "output_type": "stream",
     "text": [
      "Round 19: 100%|██████████| 30/30 [00:04<00:00,  9.71it/s, loss=0.188]"
     ]
    },
    {
     "name": "stdout",
     "output_type": "stream",
     "text": [
      "Server - Val loss: 0.374, Val accuracy: 0.896\n"
     ]
    },
    {
     "name": "stderr",
     "output_type": "stream",
     "text": [
      "                                                                     "
     ]
    },
    {
     "name": "stdout",
     "output_type": "stream",
     "text": [
      "-- Test loss: 0.345, Test accuracy: 0.906 --\n",
      "E = 5\n",
      "Running the Parallel implementation FedSGD on MNIST dataset\n",
      "- Parameters: T=20, K=100, C=0.1, E=5, B=10, num_samples=480, lr=0.1, weight_decay=0.0001, patience=15\n",
      "- Model: Net\n",
      "- Data Split:  48000 12000 10000\n",
      "Using IID data\n"
     ]
    },
    {
     "name": "stderr",
     "output_type": "stream",
     "text": [
      "Round 0: 100%|██████████| 50/50 [00:06<00:00, 10.11it/s, loss=0.0403]"
     ]
    },
    {
     "name": "stdout",
     "output_type": "stream",
     "text": [
      "Server - Val loss: 2.288, Val accuracy: 0.505\n"
     ]
    },
    {
     "name": "stderr",
     "output_type": "stream",
     "text": [
      "Round 1: 100%|██████████| 50/50 [00:06<00:00,  8.81it/s, loss=0.301] "
     ]
    },
    {
     "name": "stdout",
     "output_type": "stream",
     "text": [
      "Server - Val loss: 2.239, Val accuracy: 0.850\n"
     ]
    },
    {
     "name": "stderr",
     "output_type": "stream",
     "text": [
      "Round 2: 100%|██████████| 50/50 [00:06<00:00,  8.31it/s, loss=0.155]"
     ]
    },
    {
     "name": "stdout",
     "output_type": "stream",
     "text": [
      "Server - Val loss: 2.148, Val accuracy: 0.878\n"
     ]
    },
    {
     "name": "stderr",
     "output_type": "stream",
     "text": [
      "Round 3: 100%|██████████| 50/50 [00:06<00:00,  8.57it/s, loss=0.117] "
     ]
    },
    {
     "name": "stdout",
     "output_type": "stream",
     "text": [
      "Server - Val loss: 2.020, Val accuracy: 0.886\n"
     ]
    },
    {
     "name": "stderr",
     "output_type": "stream",
     "text": [
      "Round 4: 100%|██████████| 50/50 [00:07<00:00,  7.27it/s, loss=0.113] "
     ]
    },
    {
     "name": "stdout",
     "output_type": "stream",
     "text": [
      "Server - Val loss: 1.907, Val accuracy: 0.892\n"
     ]
    },
    {
     "name": "stderr",
     "output_type": "stream",
     "text": [
      "Round 5: 100%|██████████| 50/50 [00:07<00:00,  8.70it/s, loss=0.128] "
     ]
    },
    {
     "name": "stdout",
     "output_type": "stream",
     "text": [
      "Server - Val loss: 1.585, Val accuracy: 0.893\n"
     ]
    },
    {
     "name": "stderr",
     "output_type": "stream",
     "text": [
      "Round 6: 100%|██████████| 50/50 [00:07<00:00,  8.85it/s, loss=0.0921]"
     ]
    },
    {
     "name": "stdout",
     "output_type": "stream",
     "text": [
      "Server - Val loss: 1.228, Val accuracy: 0.895\n"
     ]
    },
    {
     "name": "stderr",
     "output_type": "stream",
     "text": [
      "Round 7: 100%|██████████| 50/50 [00:07<00:00,  9.10it/s, loss=0.0891]"
     ]
    },
    {
     "name": "stdout",
     "output_type": "stream",
     "text": [
      "Server - Val loss: 1.178, Val accuracy: 0.897\n"
     ]
    },
    {
     "name": "stderr",
     "output_type": "stream",
     "text": [
      "Round 8: 100%|██████████| 50/50 [00:06<00:00,  9.90it/s, loss=0.139] "
     ]
    },
    {
     "name": "stdout",
     "output_type": "stream",
     "text": [
      "Server - Val loss: 0.875, Val accuracy: 0.899\n"
     ]
    },
    {
     "name": "stderr",
     "output_type": "stream",
     "text": [
      "Round 9: 100%|██████████| 50/50 [00:06<00:00,  8.87it/s, loss=0.161] "
     ]
    },
    {
     "name": "stdout",
     "output_type": "stream",
     "text": [
      "Server - Val loss: 0.791, Val accuracy: 0.899\n"
     ]
    },
    {
     "name": "stderr",
     "output_type": "stream",
     "text": [
      "Round 10: 100%|██████████| 50/50 [00:06<00:00,  8.10it/s, loss=0.0626]"
     ]
    },
    {
     "name": "stdout",
     "output_type": "stream",
     "text": [
      "Server - Val loss: 0.643, Val accuracy: 0.901\n"
     ]
    },
    {
     "name": "stderr",
     "output_type": "stream",
     "text": [
      "Round 11: 100%|██████████| 50/50 [00:06<00:00,  9.00it/s, loss=0.0642]"
     ]
    },
    {
     "name": "stdout",
     "output_type": "stream",
     "text": [
      "Server - Val loss: 0.522, Val accuracy: 0.904\n"
     ]
    },
    {
     "name": "stderr",
     "output_type": "stream",
     "text": [
      "Round 12: 100%|██████████| 50/50 [00:06<00:00,  8.30it/s, loss=0.0293]"
     ]
    },
    {
     "name": "stdout",
     "output_type": "stream",
     "text": [
      "Server - Val loss: 0.453, Val accuracy: 0.906\n"
     ]
    },
    {
     "name": "stderr",
     "output_type": "stream",
     "text": [
      "Round 13: 100%|██████████| 50/50 [00:06<00:00,  9.17it/s, loss=0.0268]"
     ]
    },
    {
     "name": "stdout",
     "output_type": "stream",
     "text": [
      "Server - Val loss: 0.414, Val accuracy: 0.906\n"
     ]
    },
    {
     "name": "stderr",
     "output_type": "stream",
     "text": [
      "Round 14: 100%|██████████| 50/50 [00:06<00:00,  9.46it/s, loss=0.0285]"
     ]
    },
    {
     "name": "stdout",
     "output_type": "stream",
     "text": [
      "Server - Val loss: 0.368, Val accuracy: 0.907\n"
     ]
    },
    {
     "name": "stderr",
     "output_type": "stream",
     "text": [
      "Round 15: 100%|██████████| 50/50 [00:06<00:00,  9.50it/s, loss=0.0255]"
     ]
    },
    {
     "name": "stdout",
     "output_type": "stream",
     "text": [
      "Server - Val loss: 0.329, Val accuracy: 0.909\n"
     ]
    },
    {
     "name": "stderr",
     "output_type": "stream",
     "text": [
      "Round 16: 100%|██████████| 50/50 [00:06<00:00,  8.39it/s, loss=0.0665]"
     ]
    },
    {
     "name": "stdout",
     "output_type": "stream",
     "text": [
      "Server - Val loss: 0.320, Val accuracy: 0.909\n"
     ]
    },
    {
     "name": "stderr",
     "output_type": "stream",
     "text": [
      "Round 17: 100%|██████████| 50/50 [00:07<00:00,  9.17it/s, loss=0.0188]"
     ]
    },
    {
     "name": "stdout",
     "output_type": "stream",
     "text": [
      "Server - Val loss: 0.305, Val accuracy: 0.911\n"
     ]
    },
    {
     "name": "stderr",
     "output_type": "stream",
     "text": [
      "Round 18: 100%|██████████| 50/50 [00:06<00:00,  9.72it/s, loss=0.019] "
     ]
    },
    {
     "name": "stdout",
     "output_type": "stream",
     "text": [
      "Server - Val loss: 0.298, Val accuracy: 0.911\n"
     ]
    },
    {
     "name": "stderr",
     "output_type": "stream",
     "text": [
      "Round 19: 100%|██████████| 50/50 [00:07<00:00,  7.92it/s, loss=0.0297]"
     ]
    },
    {
     "name": "stdout",
     "output_type": "stream",
     "text": [
      "Server - Val loss: 0.291, Val accuracy: 0.912\n"
     ]
    },
    {
     "name": "stderr",
     "output_type": "stream",
     "text": [
      "                                                                      "
     ]
    },
    {
     "name": "stdout",
     "output_type": "stream",
     "text": [
      "-- Test loss: 0.261, Test accuracy: 0.921 --\n",
      "E = 10\n",
      "Running the Parallel implementation FedSGD on MNIST dataset\n",
      "- Parameters: T=20, K=100, C=0.1, E=10, B=10, num_samples=480, lr=0.1, weight_decay=0.0001, patience=15\n",
      "- Model: Net\n",
      "- Data Split:  48000 12000 10000\n",
      "Using IID data\n"
     ]
    },
    {
     "name": "stderr",
     "output_type": "stream",
     "text": [
      "Round 0: 100%|██████████| 100/100 [00:13<00:00,  9.23it/s, loss=0.00285]"
     ]
    },
    {
     "name": "stdout",
     "output_type": "stream",
     "text": [
      "Server - Val loss: 2.285, Val accuracy: 0.572\n"
     ]
    },
    {
     "name": "stderr",
     "output_type": "stream",
     "text": [
      "Round 1: 100%|██████████| 100/100 [00:12<00:00,  8.48it/s, loss=0.0212] "
     ]
    },
    {
     "name": "stdout",
     "output_type": "stream",
     "text": [
      "Server - Val loss: 2.217, Val accuracy: 0.890\n"
     ]
    },
    {
     "name": "stderr",
     "output_type": "stream",
     "text": [
      "Round 2: 100%|██████████| 100/100 [00:13<00:00,  8.78it/s, loss=0.0039]"
     ]
    },
    {
     "name": "stdout",
     "output_type": "stream",
     "text": [
      "Server - Val loss: 2.091, Val accuracy: 0.898\n"
     ]
    },
    {
     "name": "stderr",
     "output_type": "stream",
     "text": [
      "Round 3: 100%|██████████| 100/100 [00:13<00:00,  8.57it/s, loss=0.005] "
     ]
    },
    {
     "name": "stdout",
     "output_type": "stream",
     "text": [
      "Server - Val loss: 1.923, Val accuracy: 0.901\n"
     ]
    },
    {
     "name": "stderr",
     "output_type": "stream",
     "text": [
      "Round 4: 100%|██████████| 100/100 [00:12<00:00,  8.40it/s, loss=0.00363]"
     ]
    },
    {
     "name": "stdout",
     "output_type": "stream",
     "text": [
      "Server - Val loss: 1.778, Val accuracy: 0.901\n"
     ]
    },
    {
     "name": "stderr",
     "output_type": "stream",
     "text": [
      "Round 5: 100%|██████████| 100/100 [00:14<00:00,  8.49it/s, loss=0.00416]"
     ]
    },
    {
     "name": "stdout",
     "output_type": "stream",
     "text": [
      "Server - Val loss: 1.375, Val accuracy: 0.902\n"
     ]
    },
    {
     "name": "stderr",
     "output_type": "stream",
     "text": [
      "Round 6: 100%|██████████| 100/100 [00:14<00:00,  7.31it/s, loss=0.00352]"
     ]
    },
    {
     "name": "stdout",
     "output_type": "stream",
     "text": [
      "Server - Val loss: 0.981, Val accuracy: 0.903\n"
     ]
    },
    {
     "name": "stderr",
     "output_type": "stream",
     "text": [
      "Round 7: 100%|██████████| 100/100 [00:14<00:00,  8.08it/s, loss=0.00388]"
     ]
    },
    {
     "name": "stdout",
     "output_type": "stream",
     "text": [
      "Server - Val loss: 0.934, Val accuracy: 0.904\n"
     ]
    },
    {
     "name": "stderr",
     "output_type": "stream",
     "text": [
      "Round 8: 100%|██████████| 100/100 [00:13<00:00,  8.60it/s, loss=0.00403]"
     ]
    },
    {
     "name": "stdout",
     "output_type": "stream",
     "text": [
      "Server - Val loss: 0.646, Val accuracy: 0.906\n"
     ]
    },
    {
     "name": "stderr",
     "output_type": "stream",
     "text": [
      "Round 9: 100%|██████████| 100/100 [00:13<00:00,  8.96it/s, loss=0.00323]"
     ]
    },
    {
     "name": "stdout",
     "output_type": "stream",
     "text": [
      "Server - Val loss: 0.578, Val accuracy: 0.906\n"
     ]
    },
    {
     "name": "stderr",
     "output_type": "stream",
     "text": [
      "Round 10: 100%|██████████| 100/100 [00:12<00:00,  7.67it/s, loss=0.00356]"
     ]
    },
    {
     "name": "stdout",
     "output_type": "stream",
     "text": [
      "Server - Val loss: 0.468, Val accuracy: 0.907\n"
     ]
    },
    {
     "name": "stderr",
     "output_type": "stream",
     "text": [
      "Round 11: 100%|██████████| 100/100 [00:13<00:00,  7.49it/s, loss=0.0036] "
     ]
    },
    {
     "name": "stdout",
     "output_type": "stream",
     "text": [
      "Server - Val loss: 0.387, Val accuracy: 0.910\n"
     ]
    },
    {
     "name": "stderr",
     "output_type": "stream",
     "text": [
      "Round 12: 100%|██████████| 100/100 [00:14<00:00,  9.19it/s, loss=0.00298]"
     ]
    },
    {
     "name": "stdout",
     "output_type": "stream",
     "text": [
      "Server - Val loss: 0.346, Val accuracy: 0.911\n"
     ]
    },
    {
     "name": "stderr",
     "output_type": "stream",
     "text": [
      "Round 13: 100%|██████████| 100/100 [00:13<00:00,  8.25it/s, loss=0.00322]"
     ]
    },
    {
     "name": "stdout",
     "output_type": "stream",
     "text": [
      "Server - Val loss: 0.325, Val accuracy: 0.911\n"
     ]
    },
    {
     "name": "stderr",
     "output_type": "stream",
     "text": [
      "Round 14: 100%|██████████| 100/100 [00:14<00:00,  7.51it/s, loss=0.00456]"
     ]
    },
    {
     "name": "stdout",
     "output_type": "stream",
     "text": [
      "Server - Val loss: 0.303, Val accuracy: 0.912\n"
     ]
    },
    {
     "name": "stderr",
     "output_type": "stream",
     "text": [
      "Round 15: 100%|██████████| 100/100 [00:13<00:00,  8.55it/s, loss=0.00301]"
     ]
    },
    {
     "name": "stdout",
     "output_type": "stream",
     "text": [
      "Server - Val loss: 0.288, Val accuracy: 0.913\n"
     ]
    },
    {
     "name": "stderr",
     "output_type": "stream",
     "text": [
      "Round 16: 100%|██████████| 100/100 [00:12<00:00,  8.03it/s, loss=0.00281]"
     ]
    },
    {
     "name": "stdout",
     "output_type": "stream",
     "text": [
      "Server - Val loss: 0.284, Val accuracy: 0.914\n"
     ]
    },
    {
     "name": "stderr",
     "output_type": "stream",
     "text": [
      "Round 17: 100%|██████████| 100/100 [00:13<00:00,  7.98it/s, loss=0.00206]"
     ]
    },
    {
     "name": "stdout",
     "output_type": "stream",
     "text": [
      "Server - Val loss: 0.280, Val accuracy: 0.914\n"
     ]
    },
    {
     "name": "stderr",
     "output_type": "stream",
     "text": [
      "Round 18: 100%|██████████| 100/100 [00:13<00:00,  9.00it/s, loss=0.00253]"
     ]
    },
    {
     "name": "stdout",
     "output_type": "stream",
     "text": [
      "Server - Val loss: 0.278, Val accuracy: 0.915\n"
     ]
    },
    {
     "name": "stderr",
     "output_type": "stream",
     "text": [
      "Round 19: 100%|██████████| 100/100 [00:12<00:00,  8.97it/s, loss=0.00348]"
     ]
    },
    {
     "name": "stdout",
     "output_type": "stream",
     "text": [
      "Server - Val loss: 0.278, Val accuracy: 0.916\n"
     ]
    },
    {
     "name": "stderr",
     "output_type": "stream",
     "text": [
      "                                                                         "
     ]
    },
    {
     "name": "stdout",
     "output_type": "stream",
     "text": [
      "-- Test loss: 0.247, Test accuracy: 0.925 --\n",
      "E = 15\n",
      "Running the Parallel implementation FedSGD on MNIST dataset\n",
      "- Parameters: T=20, K=100, C=0.1, E=15, B=10, num_samples=480, lr=0.1, weight_decay=0.0001, patience=15\n",
      "- Model: Net\n",
      "- Data Split:  48000 12000 10000\n",
      "Using IID data\n"
     ]
    },
    {
     "name": "stderr",
     "output_type": "stream",
     "text": [
      "Round 0: 100%|██████████| 150/150 [00:19<00:00, 10.06it/s, loss=0.00157]"
     ]
    },
    {
     "name": "stdout",
     "output_type": "stream",
     "text": [
      "Server - Val loss: 2.284, Val accuracy: 0.629\n"
     ]
    },
    {
     "name": "stderr",
     "output_type": "stream",
     "text": [
      "Round 1: 100%|██████████| 150/150 [00:19<00:00,  9.83it/s, loss=0.00239]"
     ]
    },
    {
     "name": "stdout",
     "output_type": "stream",
     "text": [
      "Server - Val loss: 2.209, Val accuracy: 0.898\n"
     ]
    },
    {
     "name": "stderr",
     "output_type": "stream",
     "text": [
      "Round 2: 100%|██████████| 150/150 [00:19<00:00,  9.11it/s, loss=0.00174]"
     ]
    },
    {
     "name": "stdout",
     "output_type": "stream",
     "text": [
      "Server - Val loss: 2.072, Val accuracy: 0.902\n"
     ]
    },
    {
     "name": "stderr",
     "output_type": "stream",
     "text": [
      "Round 3: 100%|██████████| 150/150 [00:20<00:00,  8.97it/s, loss=0.00195]"
     ]
    },
    {
     "name": "stdout",
     "output_type": "stream",
     "text": [
      "Server - Val loss: 1.891, Val accuracy: 0.903\n"
     ]
    },
    {
     "name": "stderr",
     "output_type": "stream",
     "text": [
      "Round 4: 100%|██████████| 150/150 [00:18<00:00,  9.27it/s, loss=0.00184]"
     ]
    },
    {
     "name": "stdout",
     "output_type": "stream",
     "text": [
      "Server - Val loss: 1.738, Val accuracy: 0.903\n"
     ]
    },
    {
     "name": "stderr",
     "output_type": "stream",
     "text": [
      "Round 5: 100%|██████████| 150/150 [00:19<00:00,  9.40it/s, loss=0.002]  "
     ]
    },
    {
     "name": "stdout",
     "output_type": "stream",
     "text": [
      "Server - Val loss: 1.314, Val accuracy: 0.904\n"
     ]
    },
    {
     "name": "stderr",
     "output_type": "stream",
     "text": [
      "Round 6: 100%|██████████| 150/150 [00:19<00:00,  9.63it/s, loss=0.00182]"
     ]
    },
    {
     "name": "stdout",
     "output_type": "stream",
     "text": [
      "Server - Val loss: 0.911, Val accuracy: 0.905\n"
     ]
    },
    {
     "name": "stderr",
     "output_type": "stream",
     "text": [
      "Round 7: 100%|██████████| 150/150 [00:18<00:00,  9.95it/s, loss=0.00201]"
     ]
    },
    {
     "name": "stdout",
     "output_type": "stream",
     "text": [
      "Server - Val loss: 0.866, Val accuracy: 0.906\n"
     ]
    },
    {
     "name": "stderr",
     "output_type": "stream",
     "text": [
      "Round 8: 100%|██████████| 150/150 [00:20<00:00,  7.78it/s, loss=0.00206]"
     ]
    },
    {
     "name": "stdout",
     "output_type": "stream",
     "text": [
      "Server - Val loss: 0.588, Val accuracy: 0.908\n"
     ]
    },
    {
     "name": "stderr",
     "output_type": "stream",
     "text": [
      "Round 9: 100%|██████████| 150/150 [00:20<00:00,  8.94it/s, loss=0.00175]"
     ]
    },
    {
     "name": "stdout",
     "output_type": "stream",
     "text": [
      "Server - Val loss: 0.526, Val accuracy: 0.909\n"
     ]
    },
    {
     "name": "stderr",
     "output_type": "stream",
     "text": [
      "Round 10: 100%|██████████| 150/150 [00:20<00:00,  9.83it/s, loss=0.00175]"
     ]
    },
    {
     "name": "stdout",
     "output_type": "stream",
     "text": [
      "Server - Val loss: 0.427, Val accuracy: 0.910\n"
     ]
    },
    {
     "name": "stderr",
     "output_type": "stream",
     "text": [
      "Round 11: 100%|██████████| 150/150 [00:19<00:00,  9.22it/s, loss=0.00196]"
     ]
    },
    {
     "name": "stdout",
     "output_type": "stream",
     "text": [
      "Server - Val loss: 0.358, Val accuracy: 0.912\n"
     ]
    },
    {
     "name": "stderr",
     "output_type": "stream",
     "text": [
      "Round 12: 100%|██████████| 150/150 [00:19<00:00,  9.16it/s, loss=0.0018] "
     ]
    },
    {
     "name": "stdout",
     "output_type": "stream",
     "text": [
      "Server - Val loss: 0.323, Val accuracy: 0.912\n"
     ]
    },
    {
     "name": "stderr",
     "output_type": "stream",
     "text": [
      "Round 13: 100%|██████████| 150/150 [00:20<00:00,  8.19it/s, loss=0.0018] "
     ]
    },
    {
     "name": "stdout",
     "output_type": "stream",
     "text": [
      "Server - Val loss: 0.307, Val accuracy: 0.913\n"
     ]
    },
    {
     "name": "stderr",
     "output_type": "stream",
     "text": [
      "Round 14: 100%|██████████| 150/150 [00:20<00:00,  7.23it/s, loss=0.00221]"
     ]
    },
    {
     "name": "stdout",
     "output_type": "stream",
     "text": [
      "Server - Val loss: 0.290, Val accuracy: 0.914\n"
     ]
    },
    {
     "name": "stderr",
     "output_type": "stream",
     "text": [
      "Round 15: 100%|██████████| 150/150 [00:20<00:00,  7.85it/s, loss=0.00151]"
     ]
    },
    {
     "name": "stdout",
     "output_type": "stream",
     "text": [
      "Server - Val loss: 0.280, Val accuracy: 0.915\n"
     ]
    },
    {
     "name": "stderr",
     "output_type": "stream",
     "text": [
      "Round 16: 100%|██████████| 150/150 [00:20<00:00,  8.09it/s, loss=0.00149]"
     ]
    },
    {
     "name": "stdout",
     "output_type": "stream",
     "text": [
      "Server - Val loss: 0.278, Val accuracy: 0.915\n"
     ]
    },
    {
     "name": "stderr",
     "output_type": "stream",
     "text": [
      "Round 17: 100%|██████████| 150/150 [00:20<00:00,  8.20it/s, loss=0.00134]"
     ]
    },
    {
     "name": "stdout",
     "output_type": "stream",
     "text": [
      "Server - Val loss: 0.276, Val accuracy: 0.917\n"
     ]
    },
    {
     "name": "stderr",
     "output_type": "stream",
     "text": [
      "Round 18: 100%|██████████| 150/150 [00:19<00:00,  7.88it/s, loss=0.0014] "
     ]
    },
    {
     "name": "stdout",
     "output_type": "stream",
     "text": [
      "Server - Val loss: 0.275, Val accuracy: 0.917\n"
     ]
    },
    {
     "name": "stderr",
     "output_type": "stream",
     "text": [
      "Round 19: 100%|██████████| 150/150 [00:21<00:00,  7.60it/s, loss=0.00163]"
     ]
    },
    {
     "name": "stdout",
     "output_type": "stream",
     "text": [
      "Server - Val loss: 0.277, Val accuracy: 0.918\n"
     ]
    },
    {
     "name": "stderr",
     "output_type": "stream",
     "text": [
      "                                                                         "
     ]
    },
    {
     "name": "stdout",
     "output_type": "stream",
     "text": [
      "-- Test loss: 0.244, Test accuracy: 0.927 --\n",
      "E = 1\n",
      "Running the Parallel implementation FedSGD on MNIST dataset\n",
      "- Parameters: T=20, K=100, C=0.1, E=1, B=10, num_samples=480, lr=0.1, weight_decay=0.0001, patience=15\n",
      "- Model: Cnn\n",
      "- Data Split:  48000 12000 10000\n",
      "Using IID data\n"
     ]
    },
    {
     "name": "stderr",
     "output_type": "stream",
     "text": [
      "Round 0: 100%|██████████| 10/10 [00:02<00:00,  7.06it/s, loss=1.99]"
     ]
    },
    {
     "name": "stdout",
     "output_type": "stream",
     "text": [
      "Server - Val loss: 2.302, Val accuracy: 0.102\n"
     ]
    },
    {
     "name": "stderr",
     "output_type": "stream",
     "text": [
      "Round 1: 100%|██████████| 10/10 [00:02<00:00,  6.52it/s, loss=2.3] "
     ]
    },
    {
     "name": "stdout",
     "output_type": "stream",
     "text": [
      "Server - Val loss: 2.302, Val accuracy: 0.107\n"
     ]
    },
    {
     "name": "stderr",
     "output_type": "stream",
     "text": [
      "Round 2: 100%|██████████| 10/10 [00:02<00:00,  5.52it/s, loss=2.3]"
     ]
    },
    {
     "name": "stdout",
     "output_type": "stream",
     "text": [
      "Server - Val loss: 2.302, Val accuracy: 0.107\n"
     ]
    },
    {
     "name": "stderr",
     "output_type": "stream",
     "text": [
      "Round 3: 100%|██████████| 10/10 [00:02<00:00,  6.62it/s, loss=2.3]"
     ]
    },
    {
     "name": "stdout",
     "output_type": "stream",
     "text": [
      "Server - Val loss: 2.302, Val accuracy: 0.113\n"
     ]
    },
    {
     "name": "stderr",
     "output_type": "stream",
     "text": [
      "Round 4: 100%|██████████| 10/10 [00:02<00:00,  5.45it/s, loss=2.3]"
     ]
    },
    {
     "name": "stdout",
     "output_type": "stream",
     "text": [
      "Server - Val loss: 2.302, Val accuracy: 0.113\n"
     ]
    },
    {
     "name": "stderr",
     "output_type": "stream",
     "text": [
      "Round 5: 100%|██████████| 10/10 [00:02<00:00,  2.92it/s, loss=2.3]"
     ]
    },
    {
     "name": "stdout",
     "output_type": "stream",
     "text": [
      "Server - Val loss: 2.302, Val accuracy: 0.113\n"
     ]
    },
    {
     "name": "stderr",
     "output_type": "stream",
     "text": [
      "Round 6: 100%|██████████| 10/10 [00:02<00:00,  7.47it/s, loss=2.3]"
     ]
    },
    {
     "name": "stdout",
     "output_type": "stream",
     "text": [
      "Server - Val loss: 2.302, Val accuracy: 0.113\n"
     ]
    },
    {
     "name": "stderr",
     "output_type": "stream",
     "text": [
      "Round 7: 100%|██████████| 10/10 [00:02<00:00,  5.94it/s, loss=2.3]"
     ]
    },
    {
     "name": "stdout",
     "output_type": "stream",
     "text": [
      "Server - Val loss: 2.302, Val accuracy: 0.113\n"
     ]
    },
    {
     "name": "stderr",
     "output_type": "stream",
     "text": [
      "Round 8: 100%|██████████| 10/10 [00:02<00:00,  7.02it/s, loss=2.3]"
     ]
    },
    {
     "name": "stdout",
     "output_type": "stream",
     "text": [
      "Server - Val loss: 2.302, Val accuracy: 0.113\n"
     ]
    },
    {
     "name": "stderr",
     "output_type": "stream",
     "text": [
      "Round 9: 100%|██████████| 10/10 [00:02<00:00,  5.64it/s, loss=2.3]"
     ]
    },
    {
     "name": "stdout",
     "output_type": "stream",
     "text": [
      "Server - Val loss: 2.302, Val accuracy: 0.113\n"
     ]
    },
    {
     "name": "stderr",
     "output_type": "stream",
     "text": [
      "Round 10: 100%|██████████| 10/10 [00:02<00:00,  5.76it/s, loss=2.3]"
     ]
    },
    {
     "name": "stdout",
     "output_type": "stream",
     "text": [
      "Server - Val loss: 2.301, Val accuracy: 0.113\n"
     ]
    },
    {
     "name": "stderr",
     "output_type": "stream",
     "text": [
      "Round 11: 100%|██████████| 10/10 [00:02<00:00,  5.98it/s, loss=2.3]"
     ]
    },
    {
     "name": "stdout",
     "output_type": "stream",
     "text": [
      "Server - Val loss: 2.301, Val accuracy: 0.113\n"
     ]
    },
    {
     "name": "stderr",
     "output_type": "stream",
     "text": [
      "Round 12: 100%|██████████| 10/10 [00:02<00:00,  6.51it/s, loss=2.3]"
     ]
    },
    {
     "name": "stdout",
     "output_type": "stream",
     "text": [
      "Server - Val loss: 2.301, Val accuracy: 0.113\n"
     ]
    },
    {
     "name": "stderr",
     "output_type": "stream",
     "text": [
      "Round 13: 100%|██████████| 10/10 [00:02<00:00,  6.67it/s, loss=2.3]"
     ]
    },
    {
     "name": "stdout",
     "output_type": "stream",
     "text": [
      "Server - Val loss: 2.301, Val accuracy: 0.113\n"
     ]
    },
    {
     "name": "stderr",
     "output_type": "stream",
     "text": [
      "Round 14: 100%|██████████| 10/10 [00:02<00:00,  7.05it/s, loss=2.3]"
     ]
    },
    {
     "name": "stdout",
     "output_type": "stream",
     "text": [
      "Server - Val loss: 2.301, Val accuracy: 0.113\n"
     ]
    },
    {
     "name": "stderr",
     "output_type": "stream",
     "text": [
      "Round 15: 100%|██████████| 10/10 [00:02<00:00,  5.04it/s, loss=2.3]"
     ]
    },
    {
     "name": "stdout",
     "output_type": "stream",
     "text": [
      "Server - Val loss: 2.301, Val accuracy: 0.113\n"
     ]
    },
    {
     "name": "stderr",
     "output_type": "stream",
     "text": [
      "Round 16: 100%|██████████| 10/10 [00:02<00:00,  7.23it/s, loss=2.3]"
     ]
    },
    {
     "name": "stdout",
     "output_type": "stream",
     "text": [
      "Server - Val loss: 2.301, Val accuracy: 0.113\n"
     ]
    },
    {
     "name": "stderr",
     "output_type": "stream",
     "text": [
      "Round 17: 100%|██████████| 10/10 [00:02<00:00,  5.33it/s, loss=2.3]"
     ]
    },
    {
     "name": "stdout",
     "output_type": "stream",
     "text": [
      "Server - Val loss: 2.301, Val accuracy: 0.113\n"
     ]
    },
    {
     "name": "stderr",
     "output_type": "stream",
     "text": [
      "Round 18: 100%|██████████| 10/10 [00:02<00:00,  6.24it/s, loss=2.3]"
     ]
    },
    {
     "name": "stdout",
     "output_type": "stream",
     "text": [
      "Server - Val loss: 2.301, Val accuracy: 0.113\n"
     ]
    },
    {
     "name": "stderr",
     "output_type": "stream",
     "text": [
      "Round 19: 100%|██████████| 10/10 [00:02<00:00,  6.26it/s, loss=2.3]"
     ]
    },
    {
     "name": "stdout",
     "output_type": "stream",
     "text": [
      "Server - Val loss: 2.301, Val accuracy: 0.113\n"
     ]
    },
    {
     "name": "stderr",
     "output_type": "stream",
     "text": [
      "                                                                   "
     ]
    },
    {
     "name": "stdout",
     "output_type": "stream",
     "text": [
      "-- Test loss: 2.301, Test accuracy: 0.113 --\n",
      "E = 3\n",
      "Running the Parallel implementation FedSGD on MNIST dataset\n",
      "- Parameters: T=20, K=100, C=0.1, E=3, B=10, num_samples=480, lr=0.1, weight_decay=0.0001, patience=15\n",
      "- Model: Cnn\n",
      "- Data Split:  48000 12000 10000\n",
      "Using IID data\n"
     ]
    },
    {
     "name": "stderr",
     "output_type": "stream",
     "text": [
      "Round 0: 100%|██████████| 30/30 [00:06<00:00,  5.87it/s, loss=2.28]"
     ]
    },
    {
     "name": "stdout",
     "output_type": "stream",
     "text": [
      "Server - Val loss: 2.302, Val accuracy: 0.113\n"
     ]
    },
    {
     "name": "stderr",
     "output_type": "stream",
     "text": [
      "Round 1: 100%|██████████| 30/30 [00:06<00:00,  6.67it/s, loss=2.3] "
     ]
    },
    {
     "name": "stdout",
     "output_type": "stream",
     "text": [
      "Server - Val loss: 2.302, Val accuracy: 0.113\n"
     ]
    },
    {
     "name": "stderr",
     "output_type": "stream",
     "text": [
      "Round 2: 100%|██████████| 30/30 [00:06<00:00,  6.43it/s, loss=2.3] "
     ]
    },
    {
     "name": "stdout",
     "output_type": "stream",
     "text": [
      "Server - Val loss: 2.302, Val accuracy: 0.113\n"
     ]
    },
    {
     "name": "stderr",
     "output_type": "stream",
     "text": [
      "Round 3: 100%|██████████| 30/30 [00:06<00:00,  7.69it/s, loss=2.3] "
     ]
    },
    {
     "name": "stdout",
     "output_type": "stream",
     "text": [
      "Server - Val loss: 2.302, Val accuracy: 0.113\n"
     ]
    },
    {
     "name": "stderr",
     "output_type": "stream",
     "text": [
      "Round 4: 100%|██████████| 30/30 [00:06<00:00,  6.33it/s, loss=2.3] "
     ]
    },
    {
     "name": "stdout",
     "output_type": "stream",
     "text": [
      "Server - Val loss: 2.302, Val accuracy: 0.113\n"
     ]
    },
    {
     "name": "stderr",
     "output_type": "stream",
     "text": [
      "Round 5: 100%|██████████| 30/30 [00:06<00:00,  6.24it/s, loss=2.29]"
     ]
    },
    {
     "name": "stdout",
     "output_type": "stream",
     "text": [
      "Server - Val loss: 2.302, Val accuracy: 0.113\n"
     ]
    },
    {
     "name": "stderr",
     "output_type": "stream",
     "text": [
      "Round 6: 100%|██████████| 30/30 [00:06<00:00,  6.82it/s, loss=2.29]"
     ]
    },
    {
     "name": "stdout",
     "output_type": "stream",
     "text": [
      "Server - Val loss: 2.301, Val accuracy: 0.113\n"
     ]
    },
    {
     "name": "stderr",
     "output_type": "stream",
     "text": [
      "Round 7: 100%|██████████| 30/30 [00:07<00:00,  6.12it/s, loss=2.28]"
     ]
    },
    {
     "name": "stdout",
     "output_type": "stream",
     "text": [
      "Server - Val loss: 2.301, Val accuracy: 0.113\n"
     ]
    },
    {
     "name": "stderr",
     "output_type": "stream",
     "text": [
      "Round 8: 100%|██████████| 30/30 [00:06<00:00,  6.42it/s, loss=1.99]"
     ]
    },
    {
     "name": "stdout",
     "output_type": "stream",
     "text": [
      "Server - Val loss: 2.296, Val accuracy: 0.113\n"
     ]
    },
    {
     "name": "stderr",
     "output_type": "stream",
     "text": [
      "Round 9: 100%|██████████| 30/30 [00:07<00:00,  6.18it/s, loss=0.801]"
     ]
    },
    {
     "name": "stdout",
     "output_type": "stream",
     "text": [
      "Server - Val loss: 2.286, Val accuracy: 0.119\n"
     ]
    },
    {
     "name": "stderr",
     "output_type": "stream",
     "text": [
      "Round 10: 100%|██████████| 30/30 [00:06<00:00,  6.56it/s, loss=0.569]"
     ]
    },
    {
     "name": "stdout",
     "output_type": "stream",
     "text": [
      "Server - Val loss: 2.261, Val accuracy: 0.385\n"
     ]
    },
    {
     "name": "stderr",
     "output_type": "stream",
     "text": [
      "Round 11: 100%|██████████| 30/30 [00:06<00:00,  6.35it/s, loss=0.445]"
     ]
    },
    {
     "name": "stdout",
     "output_type": "stream",
     "text": [
      "Server - Val loss: 2.198, Val accuracy: 0.724\n"
     ]
    },
    {
     "name": "stderr",
     "output_type": "stream",
     "text": [
      "Round 12: 100%|██████████| 30/30 [00:06<00:00,  5.78it/s, loss=0.49] "
     ]
    },
    {
     "name": "stdout",
     "output_type": "stream",
     "text": [
      "Server - Val loss: 2.136, Val accuracy: 0.837\n"
     ]
    },
    {
     "name": "stderr",
     "output_type": "stream",
     "text": [
      "Round 13: 100%|██████████| 30/30 [00:06<00:00,  6.59it/s, loss=0.387]"
     ]
    },
    {
     "name": "stdout",
     "output_type": "stream",
     "text": [
      "Server - Val loss: 2.070, Val accuracy: 0.874\n"
     ]
    },
    {
     "name": "stderr",
     "output_type": "stream",
     "text": [
      "Round 14: 100%|██████████| 30/30 [00:06<00:00,  6.51it/s, loss=0.257]"
     ]
    },
    {
     "name": "stdout",
     "output_type": "stream",
     "text": [
      "Server - Val loss: 1.896, Val accuracy: 0.902\n"
     ]
    },
    {
     "name": "stderr",
     "output_type": "stream",
     "text": [
      "Round 15: 100%|██████████| 30/30 [00:06<00:00,  5.43it/s, loss=0.14] "
     ]
    },
    {
     "name": "stdout",
     "output_type": "stream",
     "text": [
      "Server - Val loss: 1.697, Val accuracy: 0.915\n"
     ]
    },
    {
     "name": "stderr",
     "output_type": "stream",
     "text": [
      "Round 16: 100%|██████████| 30/30 [00:06<00:00,  6.47it/s, loss=0.251]"
     ]
    },
    {
     "name": "stdout",
     "output_type": "stream",
     "text": [
      "Server - Val loss: 1.572, Val accuracy: 0.923\n"
     ]
    },
    {
     "name": "stderr",
     "output_type": "stream",
     "text": [
      "Round 17: 100%|██████████| 30/30 [00:06<00:00,  5.74it/s, loss=0.142]"
     ]
    },
    {
     "name": "stdout",
     "output_type": "stream",
     "text": [
      "Server - Val loss: 1.285, Val accuracy: 0.929\n"
     ]
    },
    {
     "name": "stderr",
     "output_type": "stream",
     "text": [
      "Round 18: 100%|██████████| 30/30 [00:06<00:00,  5.66it/s, loss=0.14] "
     ]
    },
    {
     "name": "stdout",
     "output_type": "stream",
     "text": [
      "Server - Val loss: 1.147, Val accuracy: 0.936\n"
     ]
    },
    {
     "name": "stderr",
     "output_type": "stream",
     "text": [
      "Round 19: 100%|██████████| 30/30 [00:06<00:00,  6.73it/s, loss=0.193] "
     ]
    },
    {
     "name": "stdout",
     "output_type": "stream",
     "text": [
      "Server - Val loss: 0.976, Val accuracy: 0.940\n"
     ]
    },
    {
     "name": "stderr",
     "output_type": "stream",
     "text": [
      "                                                                     "
     ]
    },
    {
     "name": "stdout",
     "output_type": "stream",
     "text": [
      "-- Test loss: 0.949, Test accuracy: 0.943 --\n",
      "E = 5\n",
      "Running the Parallel implementation FedSGD on MNIST dataset\n",
      "- Parameters: T=20, K=100, C=0.1, E=5, B=10, num_samples=480, lr=0.1, weight_decay=0.0001, patience=15\n",
      "- Model: Cnn\n",
      "- Data Split:  48000 12000 10000\n",
      "Using IID data\n"
     ]
    },
    {
     "name": "stderr",
     "output_type": "stream",
     "text": [
      "Round 0: 100%|██████████| 50/50 [00:10<00:00,  5.74it/s, loss=0.0798] "
     ]
    },
    {
     "name": "stdout",
     "output_type": "stream",
     "text": [
      "Server - Val loss: 2.300, Val accuracy: 0.110\n"
     ]
    },
    {
     "name": "stderr",
     "output_type": "stream",
     "text": [
      "Round 1: 100%|██████████| 50/50 [00:10<00:00,  5.88it/s, loss=0.145] "
     ]
    },
    {
     "name": "stdout",
     "output_type": "stream",
     "text": [
      "Server - Val loss: 2.286, Val accuracy: 0.411\n"
     ]
    },
    {
     "name": "stderr",
     "output_type": "stream",
     "text": [
      "Round 2: 100%|██████████| 50/50 [00:10<00:00,  5.15it/s, loss=0.137]"
     ]
    },
    {
     "name": "stdout",
     "output_type": "stream",
     "text": [
      "Server - Val loss: 2.258, Val accuracy: 0.697\n"
     ]
    },
    {
     "name": "stderr",
     "output_type": "stream",
     "text": [
      "Round 3: 100%|██████████| 50/50 [00:10<00:00,  5.02it/s, loss=0.109] "
     ]
    },
    {
     "name": "stdout",
     "output_type": "stream",
     "text": [
      "Server - Val loss: 2.203, Val accuracy: 0.880\n"
     ]
    },
    {
     "name": "stderr",
     "output_type": "stream",
     "text": [
      "Round 4: 100%|██████████| 50/50 [00:10<00:00,  5.55it/s, loss=0.0463]"
     ]
    },
    {
     "name": "stdout",
     "output_type": "stream",
     "text": [
      "Server - Val loss: 2.135, Val accuracy: 0.924\n"
     ]
    },
    {
     "name": "stderr",
     "output_type": "stream",
     "text": [
      "Round 5: 100%|██████████| 50/50 [00:10<00:00,  5.94it/s, loss=0.202] "
     ]
    },
    {
     "name": "stdout",
     "output_type": "stream",
     "text": [
      "Server - Val loss: 1.919, Val accuracy: 0.945\n"
     ]
    },
    {
     "name": "stderr",
     "output_type": "stream",
     "text": [
      "Round 6: 100%|██████████| 50/50 [00:11<00:00,  5.65it/s, loss=0.0464]"
     ]
    },
    {
     "name": "stdout",
     "output_type": "stream",
     "text": [
      "Server - Val loss: 1.578, Val accuracy: 0.950\n"
     ]
    },
    {
     "name": "stderr",
     "output_type": "stream",
     "text": [
      "Round 7: 100%|██████████| 50/50 [00:10<00:00,  5.13it/s, loss=0.0602]"
     ]
    },
    {
     "name": "stdout",
     "output_type": "stream",
     "text": [
      "Server - Val loss: 1.508, Val accuracy: 0.952\n"
     ]
    },
    {
     "name": "stderr",
     "output_type": "stream",
     "text": [
      "Round 8: 100%|██████████| 50/50 [00:10<00:00,  5.01it/s, loss=0.0367] "
     ]
    },
    {
     "name": "stdout",
     "output_type": "stream",
     "text": [
      "Server - Val loss: 1.102, Val accuracy: 0.955\n"
     ]
    },
    {
     "name": "stderr",
     "output_type": "stream",
     "text": [
      "Round 9: 100%|██████████| 50/50 [00:10<00:00,  5.97it/s, loss=0.00917]"
     ]
    },
    {
     "name": "stdout",
     "output_type": "stream",
     "text": [
      "Server - Val loss: 0.986, Val accuracy: 0.954\n"
     ]
    },
    {
     "name": "stderr",
     "output_type": "stream",
     "text": [
      "Round 10: 100%|██████████| 50/50 [00:11<00:00,  6.13it/s, loss=0.0882] "
     ]
    },
    {
     "name": "stdout",
     "output_type": "stream",
     "text": [
      "Server - Val loss: 0.743, Val accuracy: 0.956\n"
     ]
    },
    {
     "name": "stderr",
     "output_type": "stream",
     "text": [
      "Round 11: 100%|██████████| 50/50 [00:10<00:00,  5.45it/s, loss=0.0436] "
     ]
    },
    {
     "name": "stdout",
     "output_type": "stream",
     "text": [
      "Server - Val loss: 0.524, Val accuracy: 0.958\n"
     ]
    },
    {
     "name": "stderr",
     "output_type": "stream",
     "text": [
      "Round 12: 100%|██████████| 50/50 [00:10<00:00,  5.24it/s, loss=0.0083] "
     ]
    },
    {
     "name": "stdout",
     "output_type": "stream",
     "text": [
      "Server - Val loss: 0.404, Val accuracy: 0.959\n"
     ]
    },
    {
     "name": "stderr",
     "output_type": "stream",
     "text": [
      "Round 13: 100%|██████████| 50/50 [00:10<00:00,  5.46it/s, loss=0.0278] "
     ]
    },
    {
     "name": "stdout",
     "output_type": "stream",
     "text": [
      "Server - Val loss: 0.335, Val accuracy: 0.960\n"
     ]
    },
    {
     "name": "stderr",
     "output_type": "stream",
     "text": [
      "Round 14: 100%|██████████| 50/50 [00:11<00:00,  5.08it/s, loss=0.0129] "
     ]
    },
    {
     "name": "stdout",
     "output_type": "stream",
     "text": [
      "Server - Val loss: 0.251, Val accuracy: 0.961\n"
     ]
    },
    {
     "name": "stderr",
     "output_type": "stream",
     "text": [
      "Round 15: 100%|██████████| 50/50 [00:10<00:00,  5.76it/s, loss=0.0293] "
     ]
    },
    {
     "name": "stdout",
     "output_type": "stream",
     "text": [
      "Server - Val loss: 0.183, Val accuracy: 0.961\n"
     ]
    },
    {
     "name": "stderr",
     "output_type": "stream",
     "text": [
      "Round 16: 100%|██████████| 50/50 [00:11<00:00,  5.43it/s, loss=0.0497] "
     ]
    },
    {
     "name": "stdout",
     "output_type": "stream",
     "text": [
      "Server - Val loss: 0.179, Val accuracy: 0.961\n"
     ]
    },
    {
     "name": "stderr",
     "output_type": "stream",
     "text": [
      "Round 17: 100%|██████████| 50/50 [00:10<00:00,  6.08it/s, loss=0.00293]"
     ]
    },
    {
     "name": "stdout",
     "output_type": "stream",
     "text": [
      "Server - Val loss: 0.153, Val accuracy: 0.962\n"
     ]
    },
    {
     "name": "stderr",
     "output_type": "stream",
     "text": [
      "Round 18: 100%|██████████| 50/50 [00:11<00:00,  5.44it/s, loss=0.0451] "
     ]
    },
    {
     "name": "stdout",
     "output_type": "stream",
     "text": [
      "Server - Val loss: 0.143, Val accuracy: 0.963\n"
     ]
    },
    {
     "name": "stderr",
     "output_type": "stream",
     "text": [
      "Round 19: 100%|██████████| 50/50 [00:11<00:00,  5.06it/s, loss=0.00258]"
     ]
    },
    {
     "name": "stdout",
     "output_type": "stream",
     "text": [
      "Server - Val loss: 0.130, Val accuracy: 0.964\n"
     ]
    },
    {
     "name": "stderr",
     "output_type": "stream",
     "text": [
      "                                                                       "
     ]
    },
    {
     "name": "stdout",
     "output_type": "stream",
     "text": [
      "-- Test loss: 0.112, Test accuracy: 0.966 --\n",
      "E = 10\n",
      "Running the Parallel implementation FedSGD on MNIST dataset\n",
      "- Parameters: T=20, K=100, C=0.1, E=10, B=10, num_samples=480, lr=0.1, weight_decay=0.0001, patience=15\n",
      "- Model: Cnn\n",
      "- Data Split:  48000 12000 10000\n",
      "Using IID data\n"
     ]
    },
    {
     "name": "stderr",
     "output_type": "stream",
     "text": [
      "Round 0: 100%|██████████| 100/100 [00:21<00:00,  4.80it/s, loss=0.000479]"
     ]
    },
    {
     "name": "stdout",
     "output_type": "stream",
     "text": [
      "Server - Val loss: 2.299, Val accuracy: 0.185\n"
     ]
    },
    {
     "name": "stderr",
     "output_type": "stream",
     "text": [
      "Round 1: 100%|██████████| 100/100 [00:22<00:00,  4.31it/s, loss=0.000714]"
     ]
    },
    {
     "name": "stdout",
     "output_type": "stream",
     "text": [
      "Server - Val loss: 2.280, Val accuracy: 0.509\n"
     ]
    },
    {
     "name": "stderr",
     "output_type": "stream",
     "text": [
      "Round 2: 100%|██████████| 100/100 [00:21<00:00,  4.49it/s, loss=0.000853]"
     ]
    },
    {
     "name": "stdout",
     "output_type": "stream",
     "text": [
      "Server - Val loss: 2.231, Val accuracy: 0.891\n"
     ]
    },
    {
     "name": "stderr",
     "output_type": "stream",
     "text": [
      "Round 3: 100%|██████████| 100/100 [00:21<00:00,  4.55it/s, loss=0.000866]"
     ]
    },
    {
     "name": "stdout",
     "output_type": "stream",
     "text": [
      "Server - Val loss: 2.150, Val accuracy: 0.937\n"
     ]
    },
    {
     "name": "stderr",
     "output_type": "stream",
     "text": [
      "Round 4: 100%|██████████| 100/100 [00:21<00:00,  4.47it/s, loss=0.000535]"
     ]
    },
    {
     "name": "stdout",
     "output_type": "stream",
     "text": [
      "Server - Val loss: 2.072, Val accuracy: 0.949\n"
     ]
    },
    {
     "name": "stderr",
     "output_type": "stream",
     "text": [
      "Round 5: 100%|██████████| 100/100 [00:21<00:00,  4.50it/s, loss=0.000667]"
     ]
    },
    {
     "name": "stdout",
     "output_type": "stream",
     "text": [
      "Server - Val loss: 1.759, Val accuracy: 0.954\n"
     ]
    },
    {
     "name": "stderr",
     "output_type": "stream",
     "text": [
      "Round 6: 100%|██████████| 100/100 [00:22<00:00,  4.71it/s, loss=0.0165]  "
     ]
    },
    {
     "name": "stdout",
     "output_type": "stream",
     "text": [
      "Server - Val loss: 1.326, Val accuracy: 0.956\n"
     ]
    },
    {
     "name": "stderr",
     "output_type": "stream",
     "text": [
      "Round 7: 100%|██████████| 100/100 [00:21<00:00,  4.37it/s, loss=0.000654]"
     ]
    },
    {
     "name": "stdout",
     "output_type": "stream",
     "text": [
      "Server - Val loss: 1.260, Val accuracy: 0.958\n"
     ]
    },
    {
     "name": "stderr",
     "output_type": "stream",
     "text": [
      "Round 8: 100%|██████████| 100/100 [00:22<00:00,  4.26it/s, loss=0.000505]"
     ]
    },
    {
     "name": "stdout",
     "output_type": "stream",
     "text": [
      "Server - Val loss: 0.826, Val accuracy: 0.958\n"
     ]
    },
    {
     "name": "stderr",
     "output_type": "stream",
     "text": [
      "Round 9: 100%|██████████| 100/100 [00:21<00:00,  4.43it/s, loss=0.000628]"
     ]
    },
    {
     "name": "stdout",
     "output_type": "stream",
     "text": [
      "Server - Val loss: 0.690, Val accuracy: 0.959\n"
     ]
    },
    {
     "name": "stderr",
     "output_type": "stream",
     "text": [
      "Round 10: 100%|██████████| 100/100 [00:21<00:00,  4.48it/s, loss=0.000532]"
     ]
    },
    {
     "name": "stdout",
     "output_type": "stream",
     "text": [
      "Server - Val loss: 0.483, Val accuracy: 0.960\n"
     ]
    },
    {
     "name": "stderr",
     "output_type": "stream",
     "text": [
      "Round 11: 100%|██████████| 100/100 [00:22<00:00,  4.74it/s, loss=0.000545]"
     ]
    },
    {
     "name": "stdout",
     "output_type": "stream",
     "text": [
      "Server - Val loss: 0.321, Val accuracy: 0.962\n"
     ]
    },
    {
     "name": "stderr",
     "output_type": "stream",
     "text": [
      "Round 12: 100%|██████████| 100/100 [00:22<00:00,  4.26it/s, loss=0.000485]"
     ]
    },
    {
     "name": "stdout",
     "output_type": "stream",
     "text": [
      "Server - Val loss: 0.248, Val accuracy: 0.963\n"
     ]
    },
    {
     "name": "stderr",
     "output_type": "stream",
     "text": [
      "Round 13: 100%|██████████| 100/100 [00:20<00:00,  6.23it/s, loss=0.000667]"
     ]
    },
    {
     "name": "stdout",
     "output_type": "stream",
     "text": [
      "Server - Val loss: 0.205, Val accuracy: 0.964\n"
     ]
    },
    {
     "name": "stderr",
     "output_type": "stream",
     "text": [
      "Round 14: 100%|██████████| 100/100 [00:21<00:00,  4.40it/s, loss=0.000535]"
     ]
    },
    {
     "name": "stdout",
     "output_type": "stream",
     "text": [
      "Server - Val loss: 0.158, Val accuracy: 0.965\n"
     ]
    },
    {
     "name": "stderr",
     "output_type": "stream",
     "text": [
      "Round 15: 100%|██████████| 100/100 [00:21<00:00,  4.49it/s, loss=0.000481]"
     ]
    },
    {
     "name": "stdout",
     "output_type": "stream",
     "text": [
      "Server - Val loss: 0.128, Val accuracy: 0.965\n"
     ]
    },
    {
     "name": "stderr",
     "output_type": "stream",
     "text": [
      "Round 16: 100%|██████████| 100/100 [00:22<00:00,  4.59it/s, loss=0.000602]"
     ]
    },
    {
     "name": "stdout",
     "output_type": "stream",
     "text": [
      "Server - Val loss: 0.122, Val accuracy: 0.965\n"
     ]
    },
    {
     "name": "stderr",
     "output_type": "stream",
     "text": [
      "Round 17: 100%|██████████| 100/100 [00:22<00:00,  4.53it/s, loss=0.000571]"
     ]
    },
    {
     "name": "stdout",
     "output_type": "stream",
     "text": [
      "Server - Val loss: 0.113, Val accuracy: 0.966\n"
     ]
    },
    {
     "name": "stderr",
     "output_type": "stream",
     "text": [
      "Round 18: 100%|██████████| 100/100 [00:21<00:00,  4.80it/s, loss=0.000465]"
     ]
    },
    {
     "name": "stdout",
     "output_type": "stream",
     "text": [
      "Server - Val loss: 0.109, Val accuracy: 0.966\n"
     ]
    },
    {
     "name": "stderr",
     "output_type": "stream",
     "text": [
      "Round 19: 100%|██████████| 100/100 [00:21<00:00,  4.46it/s, loss=0.000489]"
     ]
    },
    {
     "name": "stdout",
     "output_type": "stream",
     "text": [
      "Server - Val loss: 0.106, Val accuracy: 0.967\n"
     ]
    },
    {
     "name": "stderr",
     "output_type": "stream",
     "text": [
      "                                                                          "
     ]
    },
    {
     "name": "stdout",
     "output_type": "stream",
     "text": [
      "-- Test loss: 0.088, Test accuracy: 0.971 --\n",
      "E = 15\n",
      "Running the Parallel implementation FedSGD on MNIST dataset\n",
      "- Parameters: T=20, K=100, C=0.1, E=15, B=10, num_samples=480, lr=0.1, weight_decay=0.0001, patience=15\n",
      "- Model: Cnn\n",
      "- Data Split:  48000 12000 10000\n",
      "Using IID data\n"
     ]
    },
    {
     "name": "stderr",
     "output_type": "stream",
     "text": [
      "Round 0: 100%|██████████| 150/150 [00:32<00:00,  4.37it/s, loss=0.000297]"
     ]
    },
    {
     "name": "stdout",
     "output_type": "stream",
     "text": [
      "Server - Val loss: 2.299, Val accuracy: 0.198\n"
     ]
    },
    {
     "name": "stderr",
     "output_type": "stream",
     "text": [
      "Round 1: 100%|██████████| 150/150 [00:33<00:00,  4.03it/s, loss=0.00054] "
     ]
    },
    {
     "name": "stdout",
     "output_type": "stream",
     "text": [
      "Server - Val loss: 2.280, Val accuracy: 0.589\n"
     ]
    },
    {
     "name": "stderr",
     "output_type": "stream",
     "text": [
      "Round 2: 100%|██████████| 150/150 [00:32<00:00,  4.14it/s, loss=0.000413]"
     ]
    },
    {
     "name": "stdout",
     "output_type": "stream",
     "text": [
      "Server - Val loss: 2.235, Val accuracy: 0.898\n"
     ]
    },
    {
     "name": "stderr",
     "output_type": "stream",
     "text": [
      "Round 3: 100%|██████████| 150/150 [00:32<00:00,  4.26it/s, loss=0.000382]"
     ]
    },
    {
     "name": "stdout",
     "output_type": "stream",
     "text": [
      "Server - Val loss: 2.146, Val accuracy: 0.942\n"
     ]
    },
    {
     "name": "stderr",
     "output_type": "stream",
     "text": [
      "Round 4: 100%|██████████| 150/150 [00:33<00:00,  4.32it/s, loss=0.000306]"
     ]
    },
    {
     "name": "stdout",
     "output_type": "stream",
     "text": [
      "Server - Val loss: 2.034, Val accuracy: 0.954\n"
     ]
    },
    {
     "name": "stderr",
     "output_type": "stream",
     "text": [
      "Round 5: 100%|██████████| 150/150 [00:32<00:00,  4.08it/s, loss=0.000457]"
     ]
    },
    {
     "name": "stdout",
     "output_type": "stream",
     "text": [
      "Server - Val loss: 1.694, Val accuracy: 0.959\n"
     ]
    },
    {
     "name": "stderr",
     "output_type": "stream",
     "text": [
      "Round 6: 100%|██████████| 150/150 [00:32<00:00,  3.98it/s, loss=0.00041] "
     ]
    },
    {
     "name": "stdout",
     "output_type": "stream",
     "text": [
      "Server - Val loss: 1.235, Val accuracy: 0.960\n"
     ]
    },
    {
     "name": "stderr",
     "output_type": "stream",
     "text": [
      "Round 7: 100%|██████████| 150/150 [00:34<00:00,  4.17it/s, loss=0.00027] "
     ]
    },
    {
     "name": "stdout",
     "output_type": "stream",
     "text": [
      "Server - Val loss: 1.161, Val accuracy: 0.960\n"
     ]
    },
    {
     "name": "stderr",
     "output_type": "stream",
     "text": [
      "Round 8: 100%|██████████| 150/150 [00:32<00:00,  4.24it/s, loss=0.000322]"
     ]
    },
    {
     "name": "stdout",
     "output_type": "stream",
     "text": [
      "Server - Val loss: 0.730, Val accuracy: 0.961\n"
     ]
    },
    {
     "name": "stderr",
     "output_type": "stream",
     "text": [
      "Round 9: 100%|██████████| 150/150 [00:33<00:00,  4.27it/s, loss=0.000425]"
     ]
    },
    {
     "name": "stdout",
     "output_type": "stream",
     "text": [
      "Server - Val loss: 0.606, Val accuracy: 0.961\n"
     ]
    },
    {
     "name": "stderr",
     "output_type": "stream",
     "text": [
      "Round 10: 100%|██████████| 150/150 [00:31<00:00,  4.04it/s, loss=0.000255]"
     ]
    },
    {
     "name": "stdout",
     "output_type": "stream",
     "text": [
      "Server - Val loss: 0.431, Val accuracy: 0.962\n"
     ]
    },
    {
     "name": "stderr",
     "output_type": "stream",
     "text": [
      "Round 11: 100%|██████████| 150/150 [00:31<00:00,  4.07it/s, loss=0.000383]"
     ]
    },
    {
     "name": "stdout",
     "output_type": "stream",
     "text": [
      "Server - Val loss: 0.294, Val accuracy: 0.962\n"
     ]
    },
    {
     "name": "stderr",
     "output_type": "stream",
     "text": [
      "Round 12: 100%|██████████| 150/150 [00:33<00:00,  4.13it/s, loss=0.000276]"
     ]
    },
    {
     "name": "stdout",
     "output_type": "stream",
     "text": [
      "Server - Val loss: 0.227, Val accuracy: 0.962\n"
     ]
    },
    {
     "name": "stderr",
     "output_type": "stream",
     "text": [
      "Round 13: 100%|██████████| 150/150 [00:32<00:00,  4.35it/s, loss=0.00208] "
     ]
    },
    {
     "name": "stdout",
     "output_type": "stream",
     "text": [
      "Server - Val loss: 0.205, Val accuracy: 0.963\n"
     ]
    },
    {
     "name": "stderr",
     "output_type": "stream",
     "text": [
      "Round 14: 100%|██████████| 150/150 [00:33<00:00,  4.04it/s, loss=0.000374]"
     ]
    },
    {
     "name": "stdout",
     "output_type": "stream",
     "text": [
      "Server - Val loss: 0.161, Val accuracy: 0.964\n"
     ]
    },
    {
     "name": "stderr",
     "output_type": "stream",
     "text": [
      "Round 15: 100%|██████████| 150/150 [00:33<00:00,  4.02it/s, loss=0.000308]"
     ]
    },
    {
     "name": "stdout",
     "output_type": "stream",
     "text": [
      "Server - Val loss: 0.128, Val accuracy: 0.964\n"
     ]
    },
    {
     "name": "stderr",
     "output_type": "stream",
     "text": [
      "Round 16: 100%|██████████| 150/150 [00:33<00:00,  4.17it/s, loss=0.000319]"
     ]
    },
    {
     "name": "stdout",
     "output_type": "stream",
     "text": [
      "Server - Val loss: 0.122, Val accuracy: 0.965\n"
     ]
    },
    {
     "name": "stderr",
     "output_type": "stream",
     "text": [
      "Round 17: 100%|██████████| 150/150 [00:33<00:00,  4.01it/s, loss=0.000261]"
     ]
    },
    {
     "name": "stdout",
     "output_type": "stream",
     "text": [
      "Server - Val loss: 0.111, Val accuracy: 0.966\n"
     ]
    },
    {
     "name": "stderr",
     "output_type": "stream",
     "text": [
      "Round 18: 100%|██████████| 150/150 [00:33<00:00,  4.14it/s, loss=0.000292]"
     ]
    },
    {
     "name": "stdout",
     "output_type": "stream",
     "text": [
      "Server - Val loss: 0.106, Val accuracy: 0.967\n"
     ]
    },
    {
     "name": "stderr",
     "output_type": "stream",
     "text": [
      "Round 19: 100%|██████████| 150/150 [00:31<00:00,  4.17it/s, loss=0.000312]"
     ]
    },
    {
     "name": "stdout",
     "output_type": "stream",
     "text": [
      "Server - Val loss: 0.104, Val accuracy: 0.968\n"
     ]
    },
    {
     "name": "stderr",
     "output_type": "stream",
     "text": [
      "                                                                          "
     ]
    },
    {
     "name": "stdout",
     "output_type": "stream",
     "text": [
      "-- Test loss: 0.086, Test accuracy: 0.972 --\n"
     ]
    },
    {
     "name": "stderr",
     "output_type": "stream",
     "text": [
      "\r"
     ]
    }
   ],
   "source": [
    "results = {}\n",
    "for model in [Net(), Cnn()]:\n",
    "    results[model.get_type()] = {}\n",
    "    for E in [1, 3, 5, 10, 15]:\n",
    "        print(f'E = {E}')\n",
    "        result = fedSgdPar(model=model,\n",
    "                            T=20, K=100, C=0.1, E=E, B=10, num_samples=100, lr=0.1,\n",
    "                            patience=15, weight_decay=10e-5, verbose=False, noiid=False)\n",
    "        results[model.get_type()][E] = result\n"
   ]
  },
  {
   "cell_type": "code",
   "execution_count": 9,
   "metadata": {},
   "outputs": [],
   "source": [
    "# save dict to file\n",
    "import json\n",
    "with open('results_e.json', 'w') as f:\n",
    "    json.dump(results, f)"
   ]
  },
  {
   "cell_type": "code",
   "execution_count": 20,
   "metadata": {},
   "outputs": [
    {
     "data": {
      "image/png": "[encoded data removed]",
      "text/plain": [
       "<Figure size 1500x1200 with 4 Axes>"
      ]
     },
     "metadata": {},
     "output_type": "display_data"
    }
   ],
   "source": [
    "# plot results\n",
    "results = json.load(open('results_e.json'))\n",
    "\n",
    "# plot 2 figures\n",
    "fig, axs = plt.subplots(2, 2, figsize=(15, 12))\n",
    "\n",
    "sns.set_context(\"notebook\", font_scale=1.5, rc={\"lines.linewidth\": 2.5, 'axes.labelsize': 18})\n",
    "sns.set_style(\"whitegrid\")\n",
    "sns.set_palette(\"Set2\")\n",
    "plt.rcParams['font.family'] = 'iA Writer Quattro V'\n",
    "\n",
    "# suppress warnings\n",
    "import warnings\n",
    "warnings.filterwarnings(\"ignore\")\n",
    "\n",
    "for i, model in enumerate(results.keys()):\n",
    "    for j, E in enumerate(results[model].keys()):\n",
    "        val_losses = results[model][E]['val_losses']\n",
    "        val_accs = results[model][E]['val_accs']\n",
    "        sns.lineplot(x=range(len(val_losses)), y=val_losses, ax=axs[i, 0], color=sns.color_palette()[j], marker='o', label=f'E = {E}')\n",
    "        sns.lineplot(x=range(len(val_accs)), y=val_accs, ax=axs[i, 1], color=sns.color_palette()[j], marker='o', label=f'E = {E}')\n",
    "        axs[i, 0].set_title(f'{model} Loss')\n",
    "        axs[i, 1].set_title(f'{model} Accuracy')\n",
    "\n",
    "for ax in axs.flatten():\n",
    "    ax.xaxis.set_major_locator(plt.MaxNLocator(integer=True))\n",
    "    ax.legend()\n",
    "\n",
    "plt.tight_layout()\n",
    "plt.show()"
   ]
  },
  {
   "cell_type": "markdown",
   "metadata": {},
   "source": [
    "### Varying the number of clients per round **C**"
   ]
  },
  {
   "cell_type": "code",
   "execution_count": null,
   "metadata": {},
   "outputs": [],
   "source": []
  },
  {
   "cell_type": "code",
   "execution_count": null,
   "metadata": {},
   "outputs": [],
   "source": [
    "# plot"
   ]
  },
  {
   "cell_type": "markdown",
   "metadata": {},
   "source": [
    "### No-IID data"
   ]
  },
  {
   "cell_type": "markdown",
   "metadata": {},
   "source": [
    "Finally, I tried dealing with the **non-IID** data distribution problem. In the previous experiments the data was distributed uniformly among the clients, but in real scenarios the data is not distributed uniformly. In this case each client has only one digit data."
   ]
  },
  {
   "cell_type": "code",
   "execution_count": null,
   "metadata": {},
   "outputs": [],
   "source": [
    "result_nn = fedSgdPar(model=Cnn(), T=20, K=100, C=0.1, E=5, B=10,\n",
    "                     num_samples=480, lr=0.01, patience=5, weight_decay=10e-4, noiid=True)\n",
    "\n",
    "result_cnn = fedSgdPar(model=Cnn(), T=20, K=100, C=0.1, E=5, B=10,\n",
    "                        num_samples=480, lr=0.01, patience=5, weight_decay=10e-4, noiid=True)"
   ]
  },
  {
   "cell_type": "code",
   "execution_count": null,
   "metadata": {},
   "outputs": [],
   "source": [
    "# plot non iid training cnn vs nn"
   ]
  },
  {
   "cell_type": "markdown",
   "metadata": {},
   "source": [
    "## Considerations\n",
    "\n",
    "I implemented the Federated Learning algorithm **FedAvg** on the MNIST dataset using Pytorch and I successfully replicated the results of the paper [1]. I showed how the algorithm performs better with more local epochs and how it can deal with the non-IID data distribution problem. It was interesting to see how the algorithm can be used to train a model on a decentralized dataset, without the need to share the data between the clients, but still converging to a good global model.\n",
    "\n",
    "Due to time constraints I fixed the number of comunications rounds to 20, which was enough to see the convergence of the algorithm in the optimal configurations. More exploration could be done on the hyperparameters tuning and on the model architecture, in order to improve the accuracy on the test set.\n",
    "\n",
    "I found this project really interesting, it gave me the opportunity to understand better the Federated Learning approach and I improved my Pytorch skills. I also learned how to use the joblib module to parallelize the training of the clients.\n"
   ]
  },
  {
   "cell_type": "markdown",
   "metadata": {},
   "source": [
    "## References\n",
    "[1] [H. B. McMahan, E. Moore, D. Ramage, S. Hampson, and B. A. y Arcas, Communication-Efficient Learning of Deep Networks from Decentralized Data. 2023.](https://arxiv.org/abs/1602.05629)"
   ]
  }
 ],
 "metadata": {
  "kernelspec": {
   "display_name": "Python 3",
   "language": "python",
   "name": "python3"
  },
  "language_info": {
   "codemirror_mode": {
    "name": "ipython",
    "version": 3
   },
   "file_extension": ".py",
   "mimetype": "text/x-python",
   "name": "python",
   "nbconvert_exporter": "python",
   "pygments_lexer": "ipython3",
   "version": "3.10.11"
  }
 },
 "nbformat": 4,
 "nbformat_minor": 2
}
